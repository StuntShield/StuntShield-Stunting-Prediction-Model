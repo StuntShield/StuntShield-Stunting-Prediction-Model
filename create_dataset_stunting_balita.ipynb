{
  "cells": [
    {
      "cell_type": "markdown",
      "metadata": {
        "id": "N-V1FfuZnZ1r"
      },
      "source": [
        "# Import Library yang akan di pakai"
      ]
    },
    {
      "cell_type": "code",
      "execution_count": 9,
      "metadata": {
        "id": "fWcWSa-ukSFe"
      },
      "outputs": [],
      "source": [
        "import os\n",
        "import csv\n",
        "import pandas as pd\n",
        "import shutil\n",
        "import zipfile"
      ]
    },
    {
      "cell_type": "markdown",
      "metadata": {
        "id": "JVkNetuCn51-"
      },
      "source": [
        "# Deklarasi Variable yang akan di gunakan\n",
        "Referensi : https://github.com/StuntShield/StuntShield-Stunting-Prediction-Model/blob/main/refrensi_ketentuan_dataset/PMK_No__2_Th_2020_ttg_Standar_Antropometri_Anak%20(1).pdf"
      ]
    },
    {
      "cell_type": "code",
      "execution_count": 10,
      "metadata": {
        "id": "49LedYvJk60s"
      },
      "outputs": [],
      "source": [
        "list_path=[]\n",
        "dataset=[]\n",
        "SDM2_LAKI_LAKI =[46.1,50.8,54.4,57.3,59.7,61.7,63.3,64.8,66.2,67.5,68.7,69.9,71.0,72.1,73.1,74.1,75.0,76.0,76.9,77.7,78.6,79.4,80.2,81.0,81.7,81.7,82.5,83.1,83.8,84.5,85.1,85.7,86.4,86.9,87.5,88.1,88.7,89.2,89.8,90.3,90.9,91.4,91.9,92.4,93.0,93.5,94.0,94.4,94.9,95.4,95.9,96.4,96.9,97.4,97.8,98.3,98.8,99.3,99.7,100.2,100.7]\n",
        "SD3_LAKI_LAKI = [55.6,60.6,64.4,67.6,70.1,72.2,74.0,75.7,77.2,78.7,80.1,81.5,82.9,84.2,85.5,86.7,88.0,89.2,90.4,91.5,92.6,93.8,94.9,95.9,96.3,97.3,98.3,99.3,100.3,101.2,102.1,103.0,103.9,104.8,105.6,106.4,107.2,108.0,108.8,109.5,110.3,111.0,111.7,112.5,113.2,113.9,114.6,115.2,115.9,116.6,117.3,117.9,118.6,119.2,119.9,120.6,121.2,121.9,122.6,123.2,123.9]\n",
        "SDM3_LAKI_LAKI = [44.2,48.9,52.4,55.3,57.6,59.6,61.2,62.7,64.0,65.2,66.4,67.6,68.6,69.6,70.6,71.6,72.5,73.3,74.2,75.0,75.8,76.5,77.2,78.0,78.0,78.6,79.3,79.9,80.5,81.1,81.7,82.3,82.8,83.4,83.9,84.4,85.0,85.5,86.0,86.5,87.0,87.5,88.0,88.4,88.9,89.4,89.8,90.3,90.7,91.2,91.6,92.1,92.5,93.0,93.4,93.9,94.3,94.7,95.2,95.6,96.1]\n",
        "SD3_PEREMPUAN=[54.7,59.5,63.2,66.1,68.6,70.7,72.5,74.2,75.8,77.4,78.9,80.3,81.7,83.1,84.4,85.7,87.0,88.2,89.4,90.6,91.7,92.9,94.0,95.0,96.1,96.4,97.4,98.4,99.4,100.3,101.3,102.2,103.1,103.9,104.8,105.6,106.5,107.3,108.1,108.9,109.7,110.5,111.2,112.0,112.7,113.5,114.2,114.9,115.7,116.4,117.1,117.7,118.4,119.1,119.8,120.4,121.1,121.8,122.4,123.1,123.7]\n",
        "SDM2_PEREMPUAN = [45.4,49.8,53.0,55.6,57.8,59.6,61.2,62.7,64.0,65.3,66.5,67.7,68.9,70.0,71.0,72.0,73.0,74.0,74.9,75.8,76.7,77.5,78.4,79.2,80.0,80.0,80.8,81.5,82.2,82.9,83.6,84.3,84.9,85.6,86.2,86.8,87.4,88.0,88.6,89.2,89.8,90.4,90.9,91.5,92.0,92.5,93.1,93.6,94.1,94.6,95.1,95.6,96.1,96.6,97.1,97.6,98.1,98.5,99.0,99.5,99.9]\n",
        "SDM3_PEREMPUAN = [43.6,47.8,51.0,53.5,55.6,57.4,58.9,60.3,61.7,62.9,64.1,65.2,66.3,67.3,68.3,69.3,70.2,71.1,72.0,72.8,73.7,74.5,75.2,76.0,76.7,76.8,77.5,78.1,78.8,79.5,80.1,80.7,81.3,81.9,82.5,83.1,83.6,84.2,84.7,85.3,85.8,86.3,86.8,87.4,87.9,88.4,88.9,89.3,89.8,90.3,90.7,91.2,91.7,92.1,92.6,93.0,93.4,93.9,94.3,94.7,95.2]\n"
      ]
    },
    {
      "cell_type": "markdown",
      "metadata": {
        "id": "2J6jikqloGgw"
      },
      "source": [
        "# Function yang di gunakan\n"
      ]
    },
    {
      "cell_type": "code",
      "execution_count": 11,
      "metadata": {
        "id": "UWiq4rLLnBKu"
      },
      "outputs": [],
      "source": [
        "def create_data(umur,jenis_kelamin,tinggi_badan,status_gizi) :\n",
        "    return {\n",
        "            \"Umur (bulan)\" : umur,\n",
        "            \"Jenis Kelamin\" : jenis_kelamin,\n",
        "            \"Tinggi Badan (cm)\" : round(tinggi_badan, 2),\n",
        "            \"Status Gizi\" : status_gizi\n",
        "          }\n",
        "\n",
        "def create_csv(umur,jenis_kelamin,status_gizi,batas_bawah,batas_atas):\n",
        "  path = os.path.join(jenis_kelamin,status_gizi)\n",
        "  path = os.path.join(path,str(umur))\n",
        "  os.makedirs(path)\n",
        "  list_path.append(os.path.join(path,'data-balita.csv'))\n",
        "  with open(os.path.join(path,'data-balita.csv'), mode='w', newline='') as file:\n",
        "          fieldnames = [\"Umur (bulan)\", \"Jenis Kelamin\", \"Tinggi Badan (cm)\",\"Status Gizi\"]\n",
        "          writer = csv.DictWriter(file, fieldnames=fieldnames)\n",
        "          writer.writeheader()\n",
        "          jml_range = (batas_atas - batas_bawah)*100\n",
        "          for i in range(int(jml_range+1)):\n",
        "            data = create_data(umur,jenis_kelamin,batas_bawah,status_gizi)\n",
        "            writer.writerow(data)\n",
        "            batas_bawah = batas_bawah + 0.01\n",
        "\n",
        "def compress_folder_to_zip(folder_path, zip_path):\n",
        "    with zipfile.ZipFile(zip_path, 'w', zipfile.ZIP_DEFLATED) as zipf:\n",
        "        for root, dirs, files in os.walk(folder_path):\n",
        "            for file in files:\n",
        "                zipf.write(os.path.join(root, file), os.path.relpath(os.path.join(root, file), folder_path))\n",
        "\n"
      ]
    },
    {
      "cell_type": "markdown",
      "metadata": {
        "id": "MFQnYzjtoTJf"
      },
      "source": [
        "# Lopping funtion untuk membuat data"
      ]
    },
    {
      "cell_type": "code",
      "execution_count": 13,
      "metadata": {
        "id": "JNZySzAGlAYs"
      },
      "outputs": [],
      "source": [
        "for i in range(len(SDM2_LAKI_LAKI)):\n",
        "  create_csv(i,'laki-laki','normal',SDM2_LAKI_LAKI[i],SD3_LAKI_LAKI[i])\n",
        "  create_csv(i,'laki-laki','tinggi',SD3_LAKI_LAKI[i],SD3_LAKI_LAKI[i]+10)\n",
        "  create_csv(i,'laki-laki','stunting',SDM3_LAKI_LAKI[i],SDM2_LAKI_LAKI[i])\n",
        "  create_csv(i,'laki-laki','severely stunting',SDM3_LAKI_LAKI[i]-10,SDM3_LAKI_LAKI[i])\n",
        "  create_csv(i,'perempuan','normal',SDM2_PEREMPUAN[i],SD3_PEREMPUAN[i])\n",
        "  create_csv(i,'perempuan','tinggi',SD3_PEREMPUAN[i],SD3_PEREMPUAN[i]+10)\n",
        "  create_csv(i,'perempuan','stunting',SDM3_PEREMPUAN[i],SDM2_PEREMPUAN[i])\n",
        "  create_csv(i,'perempuan','severely stunting',SDM3_PEREMPUAN[i]-10,SDM3_LAKI_LAKI[i])\n"
      ]
    },
    {
      "cell_type": "markdown",
      "metadata": {
        "id": "hbw67jMoocsb"
      },
      "source": [
        "# Untuk menggabungkan data yang sudah di buat berdasarkan umur,jenis kelamin dan status gizi tadi"
      ]
    },
    {
      "cell_type": "code",
      "execution_count": 14,
      "metadata": {
        "id": "Vbf_q1FIlHK6"
      },
      "outputs": [],
      "source": [
        "for file in list_path:\n",
        "    data = pd.read_csv(file)\n",
        "    dataset.append(data)\n",
        "\n",
        "merged_dataset = pd.concat(dataset)\n",
        "os.makedirs('dataset/data_balita_full')\n",
        "merged_dataset.to_csv('./dataset/data_balita_full/data_balita_full.csv', index=False)"
      ]
    },
    {
      "cell_type": "markdown",
      "metadata": {
        "id": "yiVydSD6obXl"
      },
      "source": [
        "# Mengubah file csv jadi zip"
      ]
    },
    {
      "cell_type": "code",
      "execution_count": 15,
      "metadata": {
        "id": "iNqyYBw1lMF_"
      },
      "outputs": [],
      "source": [
        "compress_folder_to_zip('./dataset/data_balita_full', './dataset/data_balita_full.zip')\n"
      ]
    },
    {
      "cell_type": "markdown",
      "metadata": {
        "id": "nONmgNb7o9Kj"
      },
      "source": [
        "# Hapus folder yang sudah tidak di butuh kan\n"
      ]
    },
    {
      "cell_type": "code",
      "execution_count": 16,
      "metadata": {
        "id": "BGH6vpV9lOxg"
      },
      "outputs": [],
      "source": [
        "shutil.rmtree('./laki-laki')\n",
        "shutil.rmtree('./perempuan')\n",
        "shutil.rmtree('./dataset/data_balita_full/')"
      ]
    }
  ],
  "metadata": {
    "colab": {
      "provenance": []
    },
    "kernelspec": {
      "display_name": "Python 3",
      "name": "python3"
    },
    "language_info": {
      "name": "python"
    }
  },
  "nbformat": 4,
  "nbformat_minor": 0
}
