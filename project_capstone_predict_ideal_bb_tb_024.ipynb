{
  "cells": [
    {
      "cell_type": "code",
      "execution_count": 1,
      "metadata": {
        "colab": {
          "base_uri": "https://localhost:8080/"
        },
        "id": "DLRN_NcrAtFP",
        "outputId": "6d5cd102-22f1-4f07-c5e4-0a8f81f3bdb4"
      },
      "outputs": [
        {
          "output_type": "stream",
          "name": "stdout",
          "text": [
            "Collecting wget\n",
            "  Downloading wget-3.2.zip (10 kB)\n",
            "  Preparing metadata (setup.py) ... \u001b[?25l\u001b[?25hdone\n",
            "Building wheels for collected packages: wget\n",
            "  Building wheel for wget (setup.py) ... \u001b[?25l\u001b[?25hdone\n",
            "  Created wheel for wget: filename=wget-3.2-py3-none-any.whl size=9656 sha256=95f41b23f81a16b0e7a7d06dee63b192828834d38ed14911c24d283bad879579\n",
            "  Stored in directory: /root/.cache/pip/wheels/8b/f1/7f/5c94f0a7a505ca1c81cd1d9208ae2064675d97582078e6c769\n",
            "Successfully built wget\n",
            "Installing collected packages: wget\n",
            "Successfully installed wget-3.2\n"
          ]
        }
      ],
      "source": [
        "!pip install wget"
      ]
    },
    {
      "cell_type": "code",
      "execution_count": 2,
      "metadata": {
        "id": "qVKNOw8p-SIQ"
      },
      "outputs": [],
      "source": [
        "import os\n",
        "import numpy as np\n",
        "import pandas as pd\n",
        "import wget\n",
        "import zipfile\n",
        "import matplotlib.pyplot as plt\n",
        "import tensorflow as tf\n",
        "from tensorflow.keras import layers, models\n",
        "from sklearn.model_selection import train_test_split\n"
      ]
    },
    {
      "cell_type": "markdown",
      "metadata": {
        "id": "JYxhGfF1Rya_"
      },
      "source": [
        "#Clean dataset balita umur 0-24 tahun"
      ]
    },
    {
      "cell_type": "code",
      "execution_count": 3,
      "metadata": {
        "id": "nhcjtliFCUEn"
      },
      "outputs": [],
      "source": [
        "\n",
        "url = 'https://github.com/StuntShield/StuntShield-Stunting-Prediction-Model/raw/main/dataset/data_ideal_024_balita.zip'\n",
        "\n",
        "filename = wget.download(url, './data_ideal_024_balita.zip')\n",
        "\n",
        "with zipfile.ZipFile(filename, 'r') as zip_ref:\n",
        "    zip_ref.extractall('./data_ideal_024_balita')"
      ]
    },
    {
      "cell_type": "code",
      "execution_count": 4,
      "metadata": {
        "colab": {
          "base_uri": "https://localhost:8080/",
          "height": 424
        },
        "id": "NBRywIhC-QK8",
        "outputId": "dae1b3c7-56d7-4581-ef35-f911e0a1dd57"
      },
      "outputs": [
        {
          "output_type": "execute_result",
          "data": {
            "text/plain": [
              "        Jenis Kelamin  Tinggi Badan (cm)  Berat Badan (kg)           Status\n",
              "0           laki-laki               45.0             1.700  severely wasted\n",
              "1           laki-laki               45.0             1.701  severely wasted\n",
              "2           laki-laki               45.0             1.702  severely wasted\n",
              "3           laki-laki               45.0             1.703  severely wasted\n",
              "4           laki-laki               45.0             1.704  severely wasted\n",
              "...               ...                ...               ...              ...\n",
              "1521923     perempuan              110.0            24.997         obesitas\n",
              "1521924     perempuan              110.0            24.998         obesitas\n",
              "1521925     perempuan              110.0            24.999         obesitas\n",
              "1521926     perempuan              110.0            25.000         obesitas\n",
              "1521927     perempuan              110.0            25.001         obesitas\n",
              "\n",
              "[1521928 rows x 4 columns]"
            ],
            "text/html": [
              "\n",
              "  <div id=\"df-d8291ace-2c46-47a3-b33c-4588a570a864\" class=\"colab-df-container\">\n",
              "    <div>\n",
              "<style scoped>\n",
              "    .dataframe tbody tr th:only-of-type {\n",
              "        vertical-align: middle;\n",
              "    }\n",
              "\n",
              "    .dataframe tbody tr th {\n",
              "        vertical-align: top;\n",
              "    }\n",
              "\n",
              "    .dataframe thead th {\n",
              "        text-align: right;\n",
              "    }\n",
              "</style>\n",
              "<table border=\"1\" class=\"dataframe\">\n",
              "  <thead>\n",
              "    <tr style=\"text-align: right;\">\n",
              "      <th></th>\n",
              "      <th>Jenis Kelamin</th>\n",
              "      <th>Tinggi Badan (cm)</th>\n",
              "      <th>Berat Badan (kg)</th>\n",
              "      <th>Status</th>\n",
              "    </tr>\n",
              "  </thead>\n",
              "  <tbody>\n",
              "    <tr>\n",
              "      <th>0</th>\n",
              "      <td>laki-laki</td>\n",
              "      <td>45.0</td>\n",
              "      <td>1.700</td>\n",
              "      <td>severely wasted</td>\n",
              "    </tr>\n",
              "    <tr>\n",
              "      <th>1</th>\n",
              "      <td>laki-laki</td>\n",
              "      <td>45.0</td>\n",
              "      <td>1.701</td>\n",
              "      <td>severely wasted</td>\n",
              "    </tr>\n",
              "    <tr>\n",
              "      <th>2</th>\n",
              "      <td>laki-laki</td>\n",
              "      <td>45.0</td>\n",
              "      <td>1.702</td>\n",
              "      <td>severely wasted</td>\n",
              "    </tr>\n",
              "    <tr>\n",
              "      <th>3</th>\n",
              "      <td>laki-laki</td>\n",
              "      <td>45.0</td>\n",
              "      <td>1.703</td>\n",
              "      <td>severely wasted</td>\n",
              "    </tr>\n",
              "    <tr>\n",
              "      <th>4</th>\n",
              "      <td>laki-laki</td>\n",
              "      <td>45.0</td>\n",
              "      <td>1.704</td>\n",
              "      <td>severely wasted</td>\n",
              "    </tr>\n",
              "    <tr>\n",
              "      <th>...</th>\n",
              "      <td>...</td>\n",
              "      <td>...</td>\n",
              "      <td>...</td>\n",
              "      <td>...</td>\n",
              "    </tr>\n",
              "    <tr>\n",
              "      <th>1521923</th>\n",
              "      <td>perempuan</td>\n",
              "      <td>110.0</td>\n",
              "      <td>24.997</td>\n",
              "      <td>obesitas</td>\n",
              "    </tr>\n",
              "    <tr>\n",
              "      <th>1521924</th>\n",
              "      <td>perempuan</td>\n",
              "      <td>110.0</td>\n",
              "      <td>24.998</td>\n",
              "      <td>obesitas</td>\n",
              "    </tr>\n",
              "    <tr>\n",
              "      <th>1521925</th>\n",
              "      <td>perempuan</td>\n",
              "      <td>110.0</td>\n",
              "      <td>24.999</td>\n",
              "      <td>obesitas</td>\n",
              "    </tr>\n",
              "    <tr>\n",
              "      <th>1521926</th>\n",
              "      <td>perempuan</td>\n",
              "      <td>110.0</td>\n",
              "      <td>25.000</td>\n",
              "      <td>obesitas</td>\n",
              "    </tr>\n",
              "    <tr>\n",
              "      <th>1521927</th>\n",
              "      <td>perempuan</td>\n",
              "      <td>110.0</td>\n",
              "      <td>25.001</td>\n",
              "      <td>obesitas</td>\n",
              "    </tr>\n",
              "  </tbody>\n",
              "</table>\n",
              "<p>1521928 rows × 4 columns</p>\n",
              "</div>\n",
              "    <div class=\"colab-df-buttons\">\n",
              "\n",
              "  <div class=\"colab-df-container\">\n",
              "    <button class=\"colab-df-convert\" onclick=\"convertToInteractive('df-d8291ace-2c46-47a3-b33c-4588a570a864')\"\n",
              "            title=\"Convert this dataframe to an interactive table.\"\n",
              "            style=\"display:none;\">\n",
              "\n",
              "  <svg xmlns=\"http://www.w3.org/2000/svg\" height=\"24px\" viewBox=\"0 -960 960 960\">\n",
              "    <path d=\"M120-120v-720h720v720H120Zm60-500h600v-160H180v160Zm220 220h160v-160H400v160Zm0 220h160v-160H400v160ZM180-400h160v-160H180v160Zm440 0h160v-160H620v160ZM180-180h160v-160H180v160Zm440 0h160v-160H620v160Z\"/>\n",
              "  </svg>\n",
              "    </button>\n",
              "\n",
              "  <style>\n",
              "    .colab-df-container {\n",
              "      display:flex;\n",
              "      gap: 12px;\n",
              "    }\n",
              "\n",
              "    .colab-df-convert {\n",
              "      background-color: #E8F0FE;\n",
              "      border: none;\n",
              "      border-radius: 50%;\n",
              "      cursor: pointer;\n",
              "      display: none;\n",
              "      fill: #1967D2;\n",
              "      height: 32px;\n",
              "      padding: 0 0 0 0;\n",
              "      width: 32px;\n",
              "    }\n",
              "\n",
              "    .colab-df-convert:hover {\n",
              "      background-color: #E2EBFA;\n",
              "      box-shadow: 0px 1px 2px rgba(60, 64, 67, 0.3), 0px 1px 3px 1px rgba(60, 64, 67, 0.15);\n",
              "      fill: #174EA6;\n",
              "    }\n",
              "\n",
              "    .colab-df-buttons div {\n",
              "      margin-bottom: 4px;\n",
              "    }\n",
              "\n",
              "    [theme=dark] .colab-df-convert {\n",
              "      background-color: #3B4455;\n",
              "      fill: #D2E3FC;\n",
              "    }\n",
              "\n",
              "    [theme=dark] .colab-df-convert:hover {\n",
              "      background-color: #434B5C;\n",
              "      box-shadow: 0px 1px 3px 1px rgba(0, 0, 0, 0.15);\n",
              "      filter: drop-shadow(0px 1px 2px rgba(0, 0, 0, 0.3));\n",
              "      fill: #FFFFFF;\n",
              "    }\n",
              "  </style>\n",
              "\n",
              "    <script>\n",
              "      const buttonEl =\n",
              "        document.querySelector('#df-d8291ace-2c46-47a3-b33c-4588a570a864 button.colab-df-convert');\n",
              "      buttonEl.style.display =\n",
              "        google.colab.kernel.accessAllowed ? 'block' : 'none';\n",
              "\n",
              "      async function convertToInteractive(key) {\n",
              "        const element = document.querySelector('#df-d8291ace-2c46-47a3-b33c-4588a570a864');\n",
              "        const dataTable =\n",
              "          await google.colab.kernel.invokeFunction('convertToInteractive',\n",
              "                                                    [key], {});\n",
              "        if (!dataTable) return;\n",
              "\n",
              "        const docLinkHtml = 'Like what you see? Visit the ' +\n",
              "          '<a target=\"_blank\" href=https://colab.research.google.com/notebooks/data_table.ipynb>data table notebook</a>'\n",
              "          + ' to learn more about interactive tables.';\n",
              "        element.innerHTML = '';\n",
              "        dataTable['output_type'] = 'display_data';\n",
              "        await google.colab.output.renderOutput(dataTable, element);\n",
              "        const docLink = document.createElement('div');\n",
              "        docLink.innerHTML = docLinkHtml;\n",
              "        element.appendChild(docLink);\n",
              "      }\n",
              "    </script>\n",
              "  </div>\n",
              "\n",
              "\n",
              "<div id=\"df-e8bf4d48-64cf-4a05-99f3-b449d16083d9\">\n",
              "  <button class=\"colab-df-quickchart\" onclick=\"quickchart('df-e8bf4d48-64cf-4a05-99f3-b449d16083d9')\"\n",
              "            title=\"Suggest charts\"\n",
              "            style=\"display:none;\">\n",
              "\n",
              "<svg xmlns=\"http://www.w3.org/2000/svg\" height=\"24px\"viewBox=\"0 0 24 24\"\n",
              "     width=\"24px\">\n",
              "    <g>\n",
              "        <path d=\"M19 3H5c-1.1 0-2 .9-2 2v14c0 1.1.9 2 2 2h14c1.1 0 2-.9 2-2V5c0-1.1-.9-2-2-2zM9 17H7v-7h2v7zm4 0h-2V7h2v10zm4 0h-2v-4h2v4z\"/>\n",
              "    </g>\n",
              "</svg>\n",
              "  </button>\n",
              "\n",
              "<style>\n",
              "  .colab-df-quickchart {\n",
              "      --bg-color: #E8F0FE;\n",
              "      --fill-color: #1967D2;\n",
              "      --hover-bg-color: #E2EBFA;\n",
              "      --hover-fill-color: #174EA6;\n",
              "      --disabled-fill-color: #AAA;\n",
              "      --disabled-bg-color: #DDD;\n",
              "  }\n",
              "\n",
              "  [theme=dark] .colab-df-quickchart {\n",
              "      --bg-color: #3B4455;\n",
              "      --fill-color: #D2E3FC;\n",
              "      --hover-bg-color: #434B5C;\n",
              "      --hover-fill-color: #FFFFFF;\n",
              "      --disabled-bg-color: #3B4455;\n",
              "      --disabled-fill-color: #666;\n",
              "  }\n",
              "\n",
              "  .colab-df-quickchart {\n",
              "    background-color: var(--bg-color);\n",
              "    border: none;\n",
              "    border-radius: 50%;\n",
              "    cursor: pointer;\n",
              "    display: none;\n",
              "    fill: var(--fill-color);\n",
              "    height: 32px;\n",
              "    padding: 0;\n",
              "    width: 32px;\n",
              "  }\n",
              "\n",
              "  .colab-df-quickchart:hover {\n",
              "    background-color: var(--hover-bg-color);\n",
              "    box-shadow: 0 1px 2px rgba(60, 64, 67, 0.3), 0 1px 3px 1px rgba(60, 64, 67, 0.15);\n",
              "    fill: var(--button-hover-fill-color);\n",
              "  }\n",
              "\n",
              "  .colab-df-quickchart-complete:disabled,\n",
              "  .colab-df-quickchart-complete:disabled:hover {\n",
              "    background-color: var(--disabled-bg-color);\n",
              "    fill: var(--disabled-fill-color);\n",
              "    box-shadow: none;\n",
              "  }\n",
              "\n",
              "  .colab-df-spinner {\n",
              "    border: 2px solid var(--fill-color);\n",
              "    border-color: transparent;\n",
              "    border-bottom-color: var(--fill-color);\n",
              "    animation:\n",
              "      spin 1s steps(1) infinite;\n",
              "  }\n",
              "\n",
              "  @keyframes spin {\n",
              "    0% {\n",
              "      border-color: transparent;\n",
              "      border-bottom-color: var(--fill-color);\n",
              "      border-left-color: var(--fill-color);\n",
              "    }\n",
              "    20% {\n",
              "      border-color: transparent;\n",
              "      border-left-color: var(--fill-color);\n",
              "      border-top-color: var(--fill-color);\n",
              "    }\n",
              "    30% {\n",
              "      border-color: transparent;\n",
              "      border-left-color: var(--fill-color);\n",
              "      border-top-color: var(--fill-color);\n",
              "      border-right-color: var(--fill-color);\n",
              "    }\n",
              "    40% {\n",
              "      border-color: transparent;\n",
              "      border-right-color: var(--fill-color);\n",
              "      border-top-color: var(--fill-color);\n",
              "    }\n",
              "    60% {\n",
              "      border-color: transparent;\n",
              "      border-right-color: var(--fill-color);\n",
              "    }\n",
              "    80% {\n",
              "      border-color: transparent;\n",
              "      border-right-color: var(--fill-color);\n",
              "      border-bottom-color: var(--fill-color);\n",
              "    }\n",
              "    90% {\n",
              "      border-color: transparent;\n",
              "      border-bottom-color: var(--fill-color);\n",
              "    }\n",
              "  }\n",
              "</style>\n",
              "\n",
              "  <script>\n",
              "    async function quickchart(key) {\n",
              "      const quickchartButtonEl =\n",
              "        document.querySelector('#' + key + ' button');\n",
              "      quickchartButtonEl.disabled = true;  // To prevent multiple clicks.\n",
              "      quickchartButtonEl.classList.add('colab-df-spinner');\n",
              "      try {\n",
              "        const charts = await google.colab.kernel.invokeFunction(\n",
              "            'suggestCharts', [key], {});\n",
              "      } catch (error) {\n",
              "        console.error('Error during call to suggestCharts:', error);\n",
              "      }\n",
              "      quickchartButtonEl.classList.remove('colab-df-spinner');\n",
              "      quickchartButtonEl.classList.add('colab-df-quickchart-complete');\n",
              "    }\n",
              "    (() => {\n",
              "      let quickchartButtonEl =\n",
              "        document.querySelector('#df-e8bf4d48-64cf-4a05-99f3-b449d16083d9 button');\n",
              "      quickchartButtonEl.style.display =\n",
              "        google.colab.kernel.accessAllowed ? 'block' : 'none';\n",
              "    })();\n",
              "  </script>\n",
              "</div>\n",
              "\n",
              "  <div id=\"id_0d1deb68-1d96-4b7f-8278-57f23083f2b7\">\n",
              "    <style>\n",
              "      .colab-df-generate {\n",
              "        background-color: #E8F0FE;\n",
              "        border: none;\n",
              "        border-radius: 50%;\n",
              "        cursor: pointer;\n",
              "        display: none;\n",
              "        fill: #1967D2;\n",
              "        height: 32px;\n",
              "        padding: 0 0 0 0;\n",
              "        width: 32px;\n",
              "      }\n",
              "\n",
              "      .colab-df-generate:hover {\n",
              "        background-color: #E2EBFA;\n",
              "        box-shadow: 0px 1px 2px rgba(60, 64, 67, 0.3), 0px 1px 3px 1px rgba(60, 64, 67, 0.15);\n",
              "        fill: #174EA6;\n",
              "      }\n",
              "\n",
              "      [theme=dark] .colab-df-generate {\n",
              "        background-color: #3B4455;\n",
              "        fill: #D2E3FC;\n",
              "      }\n",
              "\n",
              "      [theme=dark] .colab-df-generate:hover {\n",
              "        background-color: #434B5C;\n",
              "        box-shadow: 0px 1px 3px 1px rgba(0, 0, 0, 0.15);\n",
              "        filter: drop-shadow(0px 1px 2px rgba(0, 0, 0, 0.3));\n",
              "        fill: #FFFFFF;\n",
              "      }\n",
              "    </style>\n",
              "    <button class=\"colab-df-generate\" onclick=\"generateWithVariable('data_024')\"\n",
              "            title=\"Generate code using this dataframe.\"\n",
              "            style=\"display:none;\">\n",
              "\n",
              "  <svg xmlns=\"http://www.w3.org/2000/svg\" height=\"24px\"viewBox=\"0 0 24 24\"\n",
              "       width=\"24px\">\n",
              "    <path d=\"M7,19H8.4L18.45,9,17,7.55,7,17.6ZM5,21V16.75L18.45,3.32a2,2,0,0,1,2.83,0l1.4,1.43a1.91,1.91,0,0,1,.58,1.4,1.91,1.91,0,0,1-.58,1.4L9.25,21ZM18.45,9,17,7.55Zm-12,3A5.31,5.31,0,0,0,4.9,8.1,5.31,5.31,0,0,0,1,6.5,5.31,5.31,0,0,0,4.9,4.9,5.31,5.31,0,0,0,6.5,1,5.31,5.31,0,0,0,8.1,4.9,5.31,5.31,0,0,0,12,6.5,5.46,5.46,0,0,0,6.5,12Z\"/>\n",
              "  </svg>\n",
              "    </button>\n",
              "    <script>\n",
              "      (() => {\n",
              "      const buttonEl =\n",
              "        document.querySelector('#id_0d1deb68-1d96-4b7f-8278-57f23083f2b7 button.colab-df-generate');\n",
              "      buttonEl.style.display =\n",
              "        google.colab.kernel.accessAllowed ? 'block' : 'none';\n",
              "\n",
              "      buttonEl.onclick = () => {\n",
              "        google.colab.notebook.generateWithVariable('data_024');\n",
              "      }\n",
              "      })();\n",
              "    </script>\n",
              "  </div>\n",
              "\n",
              "    </div>\n",
              "  </div>\n"
            ],
            "application/vnd.google.colaboratory.intrinsic+json": {
              "type": "dataframe",
              "variable_name": "data_024"
            }
          },
          "metadata": {},
          "execution_count": 4
        }
      ],
      "source": [
        "data_024 = pd.read_csv('./data_ideal_024_balita/data-ideal-024-balita.csv')\n",
        "data_024"
      ]
    },
    {
      "cell_type": "code",
      "execution_count": 5,
      "metadata": {
        "colab": {
          "base_uri": "https://localhost:8080/"
        },
        "id": "nSCk6aRmo_aZ",
        "outputId": "65e0fd28-49a6-4afc-89ce-afce864f8e14"
      },
      "outputs": [
        {
          "output_type": "execute_result",
          "data": {
            "text/plain": [
              "Jenis Kelamin        0\n",
              "Tinggi Badan (cm)    0\n",
              "Berat Badan (kg)     0\n",
              "Status               0\n",
              "dtype: int64"
            ]
          },
          "metadata": {},
          "execution_count": 5
        }
      ],
      "source": [
        "data_024.isnull().sum()"
      ]
    },
    {
      "cell_type": "code",
      "execution_count": 6,
      "metadata": {
        "colab": {
          "base_uri": "https://localhost:8080/",
          "height": 300
        },
        "id": "8k5Fu1ZTpM44",
        "outputId": "194d928c-6c16-4369-8a82-ff3eec6d58d0"
      },
      "outputs": [
        {
          "output_type": "execute_result",
          "data": {
            "text/plain": [
              "       Tinggi Badan (cm)  Berat Badan (kg)\n",
              "count       1.521928e+06      1.521928e+06\n",
              "mean        8.521947e+01      1.233423e+01\n",
              "std         1.749497e+01      4.842696e+00\n",
              "min         4.500000e+01      1.700000e+00\n",
              "25%         7.200000e+01      8.792000e+00\n",
              "50%         8.800000e+01      1.234800e+01\n",
              "75%         1.005000e+02      1.576600e+01\n",
              "max         1.100000e+02      2.500100e+01"
            ],
            "text/html": [
              "\n",
              "  <div id=\"df-c02424e0-1c24-4154-9186-6f23a32a8d8e\" class=\"colab-df-container\">\n",
              "    <div>\n",
              "<style scoped>\n",
              "    .dataframe tbody tr th:only-of-type {\n",
              "        vertical-align: middle;\n",
              "    }\n",
              "\n",
              "    .dataframe tbody tr th {\n",
              "        vertical-align: top;\n",
              "    }\n",
              "\n",
              "    .dataframe thead th {\n",
              "        text-align: right;\n",
              "    }\n",
              "</style>\n",
              "<table border=\"1\" class=\"dataframe\">\n",
              "  <thead>\n",
              "    <tr style=\"text-align: right;\">\n",
              "      <th></th>\n",
              "      <th>Tinggi Badan (cm)</th>\n",
              "      <th>Berat Badan (kg)</th>\n",
              "    </tr>\n",
              "  </thead>\n",
              "  <tbody>\n",
              "    <tr>\n",
              "      <th>count</th>\n",
              "      <td>1.521928e+06</td>\n",
              "      <td>1.521928e+06</td>\n",
              "    </tr>\n",
              "    <tr>\n",
              "      <th>mean</th>\n",
              "      <td>8.521947e+01</td>\n",
              "      <td>1.233423e+01</td>\n",
              "    </tr>\n",
              "    <tr>\n",
              "      <th>std</th>\n",
              "      <td>1.749497e+01</td>\n",
              "      <td>4.842696e+00</td>\n",
              "    </tr>\n",
              "    <tr>\n",
              "      <th>min</th>\n",
              "      <td>4.500000e+01</td>\n",
              "      <td>1.700000e+00</td>\n",
              "    </tr>\n",
              "    <tr>\n",
              "      <th>25%</th>\n",
              "      <td>7.200000e+01</td>\n",
              "      <td>8.792000e+00</td>\n",
              "    </tr>\n",
              "    <tr>\n",
              "      <th>50%</th>\n",
              "      <td>8.800000e+01</td>\n",
              "      <td>1.234800e+01</td>\n",
              "    </tr>\n",
              "    <tr>\n",
              "      <th>75%</th>\n",
              "      <td>1.005000e+02</td>\n",
              "      <td>1.576600e+01</td>\n",
              "    </tr>\n",
              "    <tr>\n",
              "      <th>max</th>\n",
              "      <td>1.100000e+02</td>\n",
              "      <td>2.500100e+01</td>\n",
              "    </tr>\n",
              "  </tbody>\n",
              "</table>\n",
              "</div>\n",
              "    <div class=\"colab-df-buttons\">\n",
              "\n",
              "  <div class=\"colab-df-container\">\n",
              "    <button class=\"colab-df-convert\" onclick=\"convertToInteractive('df-c02424e0-1c24-4154-9186-6f23a32a8d8e')\"\n",
              "            title=\"Convert this dataframe to an interactive table.\"\n",
              "            style=\"display:none;\">\n",
              "\n",
              "  <svg xmlns=\"http://www.w3.org/2000/svg\" height=\"24px\" viewBox=\"0 -960 960 960\">\n",
              "    <path d=\"M120-120v-720h720v720H120Zm60-500h600v-160H180v160Zm220 220h160v-160H400v160Zm0 220h160v-160H400v160ZM180-400h160v-160H180v160Zm440 0h160v-160H620v160ZM180-180h160v-160H180v160Zm440 0h160v-160H620v160Z\"/>\n",
              "  </svg>\n",
              "    </button>\n",
              "\n",
              "  <style>\n",
              "    .colab-df-container {\n",
              "      display:flex;\n",
              "      gap: 12px;\n",
              "    }\n",
              "\n",
              "    .colab-df-convert {\n",
              "      background-color: #E8F0FE;\n",
              "      border: none;\n",
              "      border-radius: 50%;\n",
              "      cursor: pointer;\n",
              "      display: none;\n",
              "      fill: #1967D2;\n",
              "      height: 32px;\n",
              "      padding: 0 0 0 0;\n",
              "      width: 32px;\n",
              "    }\n",
              "\n",
              "    .colab-df-convert:hover {\n",
              "      background-color: #E2EBFA;\n",
              "      box-shadow: 0px 1px 2px rgba(60, 64, 67, 0.3), 0px 1px 3px 1px rgba(60, 64, 67, 0.15);\n",
              "      fill: #174EA6;\n",
              "    }\n",
              "\n",
              "    .colab-df-buttons div {\n",
              "      margin-bottom: 4px;\n",
              "    }\n",
              "\n",
              "    [theme=dark] .colab-df-convert {\n",
              "      background-color: #3B4455;\n",
              "      fill: #D2E3FC;\n",
              "    }\n",
              "\n",
              "    [theme=dark] .colab-df-convert:hover {\n",
              "      background-color: #434B5C;\n",
              "      box-shadow: 0px 1px 3px 1px rgba(0, 0, 0, 0.15);\n",
              "      filter: drop-shadow(0px 1px 2px rgba(0, 0, 0, 0.3));\n",
              "      fill: #FFFFFF;\n",
              "    }\n",
              "  </style>\n",
              "\n",
              "    <script>\n",
              "      const buttonEl =\n",
              "        document.querySelector('#df-c02424e0-1c24-4154-9186-6f23a32a8d8e button.colab-df-convert');\n",
              "      buttonEl.style.display =\n",
              "        google.colab.kernel.accessAllowed ? 'block' : 'none';\n",
              "\n",
              "      async function convertToInteractive(key) {\n",
              "        const element = document.querySelector('#df-c02424e0-1c24-4154-9186-6f23a32a8d8e');\n",
              "        const dataTable =\n",
              "          await google.colab.kernel.invokeFunction('convertToInteractive',\n",
              "                                                    [key], {});\n",
              "        if (!dataTable) return;\n",
              "\n",
              "        const docLinkHtml = 'Like what you see? Visit the ' +\n",
              "          '<a target=\"_blank\" href=https://colab.research.google.com/notebooks/data_table.ipynb>data table notebook</a>'\n",
              "          + ' to learn more about interactive tables.';\n",
              "        element.innerHTML = '';\n",
              "        dataTable['output_type'] = 'display_data';\n",
              "        await google.colab.output.renderOutput(dataTable, element);\n",
              "        const docLink = document.createElement('div');\n",
              "        docLink.innerHTML = docLinkHtml;\n",
              "        element.appendChild(docLink);\n",
              "      }\n",
              "    </script>\n",
              "  </div>\n",
              "\n",
              "\n",
              "<div id=\"df-d495f736-00b8-4b13-b446-6110f3ed36fc\">\n",
              "  <button class=\"colab-df-quickchart\" onclick=\"quickchart('df-d495f736-00b8-4b13-b446-6110f3ed36fc')\"\n",
              "            title=\"Suggest charts\"\n",
              "            style=\"display:none;\">\n",
              "\n",
              "<svg xmlns=\"http://www.w3.org/2000/svg\" height=\"24px\"viewBox=\"0 0 24 24\"\n",
              "     width=\"24px\">\n",
              "    <g>\n",
              "        <path d=\"M19 3H5c-1.1 0-2 .9-2 2v14c0 1.1.9 2 2 2h14c1.1 0 2-.9 2-2V5c0-1.1-.9-2-2-2zM9 17H7v-7h2v7zm4 0h-2V7h2v10zm4 0h-2v-4h2v4z\"/>\n",
              "    </g>\n",
              "</svg>\n",
              "  </button>\n",
              "\n",
              "<style>\n",
              "  .colab-df-quickchart {\n",
              "      --bg-color: #E8F0FE;\n",
              "      --fill-color: #1967D2;\n",
              "      --hover-bg-color: #E2EBFA;\n",
              "      --hover-fill-color: #174EA6;\n",
              "      --disabled-fill-color: #AAA;\n",
              "      --disabled-bg-color: #DDD;\n",
              "  }\n",
              "\n",
              "  [theme=dark] .colab-df-quickchart {\n",
              "      --bg-color: #3B4455;\n",
              "      --fill-color: #D2E3FC;\n",
              "      --hover-bg-color: #434B5C;\n",
              "      --hover-fill-color: #FFFFFF;\n",
              "      --disabled-bg-color: #3B4455;\n",
              "      --disabled-fill-color: #666;\n",
              "  }\n",
              "\n",
              "  .colab-df-quickchart {\n",
              "    background-color: var(--bg-color);\n",
              "    border: none;\n",
              "    border-radius: 50%;\n",
              "    cursor: pointer;\n",
              "    display: none;\n",
              "    fill: var(--fill-color);\n",
              "    height: 32px;\n",
              "    padding: 0;\n",
              "    width: 32px;\n",
              "  }\n",
              "\n",
              "  .colab-df-quickchart:hover {\n",
              "    background-color: var(--hover-bg-color);\n",
              "    box-shadow: 0 1px 2px rgba(60, 64, 67, 0.3), 0 1px 3px 1px rgba(60, 64, 67, 0.15);\n",
              "    fill: var(--button-hover-fill-color);\n",
              "  }\n",
              "\n",
              "  .colab-df-quickchart-complete:disabled,\n",
              "  .colab-df-quickchart-complete:disabled:hover {\n",
              "    background-color: var(--disabled-bg-color);\n",
              "    fill: var(--disabled-fill-color);\n",
              "    box-shadow: none;\n",
              "  }\n",
              "\n",
              "  .colab-df-spinner {\n",
              "    border: 2px solid var(--fill-color);\n",
              "    border-color: transparent;\n",
              "    border-bottom-color: var(--fill-color);\n",
              "    animation:\n",
              "      spin 1s steps(1) infinite;\n",
              "  }\n",
              "\n",
              "  @keyframes spin {\n",
              "    0% {\n",
              "      border-color: transparent;\n",
              "      border-bottom-color: var(--fill-color);\n",
              "      border-left-color: var(--fill-color);\n",
              "    }\n",
              "    20% {\n",
              "      border-color: transparent;\n",
              "      border-left-color: var(--fill-color);\n",
              "      border-top-color: var(--fill-color);\n",
              "    }\n",
              "    30% {\n",
              "      border-color: transparent;\n",
              "      border-left-color: var(--fill-color);\n",
              "      border-top-color: var(--fill-color);\n",
              "      border-right-color: var(--fill-color);\n",
              "    }\n",
              "    40% {\n",
              "      border-color: transparent;\n",
              "      border-right-color: var(--fill-color);\n",
              "      border-top-color: var(--fill-color);\n",
              "    }\n",
              "    60% {\n",
              "      border-color: transparent;\n",
              "      border-right-color: var(--fill-color);\n",
              "    }\n",
              "    80% {\n",
              "      border-color: transparent;\n",
              "      border-right-color: var(--fill-color);\n",
              "      border-bottom-color: var(--fill-color);\n",
              "    }\n",
              "    90% {\n",
              "      border-color: transparent;\n",
              "      border-bottom-color: var(--fill-color);\n",
              "    }\n",
              "  }\n",
              "</style>\n",
              "\n",
              "  <script>\n",
              "    async function quickchart(key) {\n",
              "      const quickchartButtonEl =\n",
              "        document.querySelector('#' + key + ' button');\n",
              "      quickchartButtonEl.disabled = true;  // To prevent multiple clicks.\n",
              "      quickchartButtonEl.classList.add('colab-df-spinner');\n",
              "      try {\n",
              "        const charts = await google.colab.kernel.invokeFunction(\n",
              "            'suggestCharts', [key], {});\n",
              "      } catch (error) {\n",
              "        console.error('Error during call to suggestCharts:', error);\n",
              "      }\n",
              "      quickchartButtonEl.classList.remove('colab-df-spinner');\n",
              "      quickchartButtonEl.classList.add('colab-df-quickchart-complete');\n",
              "    }\n",
              "    (() => {\n",
              "      let quickchartButtonEl =\n",
              "        document.querySelector('#df-d495f736-00b8-4b13-b446-6110f3ed36fc button');\n",
              "      quickchartButtonEl.style.display =\n",
              "        google.colab.kernel.accessAllowed ? 'block' : 'none';\n",
              "    })();\n",
              "  </script>\n",
              "</div>\n",
              "\n",
              "    </div>\n",
              "  </div>\n"
            ],
            "application/vnd.google.colaboratory.intrinsic+json": {
              "type": "dataframe",
              "summary": "{\n  \"name\": \"data_024\",\n  \"rows\": 8,\n  \"fields\": [\n    {\n      \"column\": \"Tinggi Badan (cm)\",\n      \"properties\": {\n        \"dtype\": \"number\",\n        \"std\": 538056.6317010078,\n        \"min\": 17.494972476883586,\n        \"max\": 1521928.0,\n        \"num_unique_values\": 8,\n        \"samples\": [\n          85.2194696463959,\n          88.0,\n          1521928.0\n        ],\n        \"semantic_type\": \"\",\n        \"description\": \"\"\n      }\n    },\n    {\n      \"column\": \"Berat Badan (kg)\",\n      \"properties\": {\n        \"dtype\": \"number\",\n        \"std\": 538078.7244808748,\n        \"min\": 1.7,\n        \"max\": 1521928.0,\n        \"num_unique_values\": 8,\n        \"samples\": [\n          12.334229382730317,\n          12.348,\n          1521928.0\n        ],\n        \"semantic_type\": \"\",\n        \"description\": \"\"\n      }\n    }\n  ]\n}"
            }
          },
          "metadata": {},
          "execution_count": 6
        }
      ],
      "source": [
        "data_024.describe()"
      ]
    },
    {
      "cell_type": "code",
      "execution_count": 7,
      "metadata": {
        "colab": {
          "base_uri": "https://localhost:8080/"
        },
        "id": "rzvGbcpuqWEF",
        "outputId": "077c0da2-1718-49de-b260-805886ea69d1"
      },
      "outputs": [
        {
          "output_type": "stream",
          "name": "stdout",
          "text": [
            "<class 'pandas.core.frame.DataFrame'>\n",
            "RangeIndex: 1521928 entries, 0 to 1521927\n",
            "Data columns (total 4 columns):\n",
            " #   Column             Non-Null Count    Dtype  \n",
            "---  ------             --------------    -----  \n",
            " 0   Jenis Kelamin      1521928 non-null  object \n",
            " 1   Tinggi Badan (cm)  1521928 non-null  float64\n",
            " 2   Berat Badan (kg)   1521928 non-null  float64\n",
            " 3   Status             1521928 non-null  object \n",
            "dtypes: float64(2), object(2)\n",
            "memory usage: 46.4+ MB\n"
          ]
        }
      ],
      "source": [
        "data_024.info()"
      ]
    },
    {
      "cell_type": "code",
      "execution_count": 8,
      "metadata": {
        "colab": {
          "base_uri": "https://localhost:8080/"
        },
        "id": "XvunzFXCS497",
        "outputId": "91bc457d-0c38-47ce-a09e-b1c0407d9a52"
      },
      "outputs": [
        {
          "output_type": "stream",
          "name": "stdout",
          "text": [
            "131\n"
          ]
        }
      ],
      "source": [
        "TINGGI_BB_PB_024 = [45.0,45.5,46.0,46.5,47.0,47.5,48.0,48.5,49.0,49.5,50.0,50.5,51.0,51.5,52.0,52.5,53.0,53.5,54.0,54.5,59.0,63.0,55.0,55.5,56.0,56.5,57.0,57.5,58.0,58.5,59.5,60.0,60.5,61.0,61.5,62.0,62.5,63.5,64.0,64.5,65.0,65.5,66.0,66.5,67.0,67.5,68.0,68.5,69.0,69.5,70.0,70.5,71.0,86.5,71.5,72.0,72.5,73.0,73.5,74.0,74.5,75.0,75.5,76.0,76.5,77.0,77.5,78.0,78.5,79.0,79.5,80.0,80.5,81.0,81.5,82.0,82.5,83.0,83.5,84.0,84.5,85.0,85.5,86.0,87.0,87.5,88.0,88.5,89.0,89.5,90.0,90.5,91.0,91.5,92.0,92.5,93.0,93.5,94.0,94.5,95.0,95.5,96.0,96.5,97.0,97.5,98.0,98.5,99.0,99.5,100.0,100.5,101.0,101.5,102.0,102.5,103.0,103.5,104.0,104.5,105.0,105.5,106.0,106.5,107.0,107.5,108.0,108.5,109.0,109.5,110.0]\n",
        "print(len(TINGGI_BB_PB_024))"
      ]
    },
    {
      "cell_type": "code",
      "execution_count": 9,
      "metadata": {
        "colab": {
          "base_uri": "https://localhost:8080/"
        },
        "id": "nNeZmGRVCwMD",
        "outputId": "984a937e-d24d-4e6f-a113-ac9b0e49e49c"
      },
      "outputs": [
        {
          "output_type": "stream",
          "name": "stdout",
          "text": [
            "131\n"
          ]
        }
      ],
      "source": [
        "SDM3_BB_PB_024_LAKI_LAKI =[1.9,1.9,2.0,2.1,2.1,2.2,2.3,2.3,2.4,2.5,2.6,2.7,2.7,2.8,2.9,3.0,3.1,3.2,3.3,3.4,3.6,3.7,3.8,3.9,4.0,4.1,4.3,4.4,4.5,4.6,4.7,4.8,4.9,5.0,5.1,5.2,5.3,5.4,5.5,5.6,5.7,5.8,5.9,6.0,6.1,6.2,6.3,6.4,6.5,6.6,6.6,6.7,6.8,6.9,7.0,7.1,7.2,7.2,7.3,7.4,7.5,7.6,7.6,7.7,7.8,7.9,7.9,8.0,8.1,8.2,8.2,8.3,8.4,8.5,8.5,8.6,8.7,8.8,8.9,9.0,9.1,9.2,9.3,9.4,9.5,9.6,9.7,9.8,9.9,10.0,10.1,10.2,10.3,10.4,10.5,10.6,10.7,10.7,10.8,10.9,11.0,11.1,11.2,11.3,11.4,11.5,11.6,11.7,11.8,11.9,12.0,12.1,12.2,12.3,12.4,12.5,12.6,12.7,12.8,12.9,13.0,13.2,13.3,13.4,13.5,13.6,13.7,13.8,14.0,14.1,14.2]\n",
        "print(len(SDM3_BB_PB_024_LAKI_LAKI))"
      ]
    },
    {
      "cell_type": "code",
      "execution_count": 10,
      "metadata": {
        "colab": {
          "base_uri": "https://localhost:8080/"
        },
        "id": "5yMsRpuoCwqY",
        "outputId": "929d168b-c98f-4b41-f0eb-a2c5a8cac99d"
      },
      "outputs": [
        {
          "output_type": "stream",
          "name": "stdout",
          "text": [
            "131\n"
          ]
        }
      ],
      "source": [
        "SDM3_BB_PB_024_PEREMPUAN = [1.9,2.0,2.0,2.1,2.2,2.2,2.3,2.4,2.4,2.5,2.6,2.7,2.8,2.8,2.9,3.0,3.1,3.2,3.3,3.4,3.5,3.6,3.7,3.8,3.9,4.0,4.1,4.2,4.3,4.4,4.5,4.6,4.7,4.8,4.9,5.0,5.1,5.2,5.3,5.4,5.5,5.5,5.6,5.7,5.8,5.9,6.0,6.1,6.1,6.2,6.3,6.4,6.5,6.5,6.6,6.7,6.8,6.9,6.9,7.0,7.1,7.1,7.2,7.3,7.4,7.4,7.5,7.6,7.7,7.7,7.8,7.9,8.0,8.1,8.1,8.2,8.3,8.4,8.5,8.6,8.7,8.8,8.9,9.0,9.1,9.2,9.3,9.4,9.5,9.6,9.7,9.8,9.9,10.0,10.1,10.1,10.2,10.3,10.4,10.5,10.6,10.7,10.8,10.9,11.0,11.1,11.2,11.3,11.4,11.5,11.6,11.7,11.8,11.9,12.0,12.1,12.3,12.4,12.5,12.6,12.7,12.8,13.0,13.1,13.2,13.3,13.5,13.6,13.7,13.9,14.0]\n",
        "print(len(SDM3_BB_PB_024_PEREMPUAN))"
      ]
    },
    {
      "cell_type": "code",
      "execution_count": 11,
      "metadata": {
        "colab": {
          "base_uri": "https://localhost:8080/"
        },
        "id": "Urr4S8N5Ks6e",
        "outputId": "10ccd5c2-0000-4836-b644-54ab1f1062ca"
      },
      "outputs": [
        {
          "output_type": "stream",
          "name": "stdout",
          "text": [
            "131\n"
          ]
        }
      ],
      "source": [
        "SDM2_BB_PB_024_LAKI_LAKI=[2.0,2.1,2.2,2.3,2.3,2.4,2.5,2.6,2.6,2.7,2.8,2.9,3.0,3.1,3.2,3.3,3.4,3.5,3.6,3.7,3.8,4.0,4.1,4.2,4.3,4.5,4.6,4.7,4.8,5.0,5.1,5.2,5.3,5.4,5.6,5.7,5.8,5.9,6.0,6.1,6.2,6.3,6.4,6.5,6.6,6.7,6.8,6.9,7.0,7.1,7.2,7.3,7.4,7.5,7.6,7.6,7.7,7.8,7.9,8.0,8.1,8.2,8.3,8.3,8.4,8.5,8.6,8.7,8.7,8.8,8.9,9.0,9.1,9.1,9.2,9.3,9.4,9.5,9.6,9.7,9.8,9.9,10.0,10.1,10.2,10.4,10.5,10.6,10.7,10.8,10.9,11.0,11.1,11.2,11.3,11.4,11.5,11.6,11.7,11.8,11.9,12.0,12.1,12.2,12.3,12.4,12.5,12.6,12.7,12.8,12.9,13.0,13.2,13.3,13.4,13.5,13.6,13.7,13.9,14.0,14.1,14.2,14.4,14.5,14.6,14.7,14.9,15.0,15.1,15.3,15.4]\n",
        "print(len(SDM2_BB_PB_024_LAKI_LAKI))\n"
      ]
    },
    {
      "cell_type": "code",
      "execution_count": 12,
      "metadata": {
        "colab": {
          "base_uri": "https://localhost:8080/"
        },
        "id": "a1yvKFdkOvLk",
        "outputId": "b36620fe-8c4c-4d96-acae-6710bf1a441d"
      },
      "outputs": [
        {
          "output_type": "stream",
          "name": "stdout",
          "text": [
            "131\n"
          ]
        }
      ],
      "source": [
        "SDM2_BB_PB_024_PEREMPUAN =[2.1,2.1,2.2,2.3,2.4,2.4,2.5,2.6,2.6,2.7,2.8,2.9,3.0,3.1,3.2,3.3,3.4,3.5,3.6,3.7,3.8,3.9,4.0,4.1,4.3,4.4,4.5,4.6,4.7,4.8,4.9,5.0,5.1,5.2,5.3,5.4,5.5,5.6,5.7,5.8,5.9,6.0,6.1,6.2,6.3,6.4,6.5,6.6,6.7,6.8,6.9,6.9,7.0,7.1,7.2,7.3,7.4,7.4,7.5,7.6,7.7,7.8,7.8,7.9,8.0,8.1,8.2,8.2,8.3,8.4,8.5,8.6,8.7,8.8,8.8,8.9,9.0,9.1,9.2,9.3,9.4,9.5,9.7,9.8,9.9,10.0,10.1,10.2,10.3,10.4,10.5,10.6,10.7,10.8,10.9,11.0,11.1,11.2,11.3,11.4,11.5,11.6,11.7,11.8,12.0,12.1,12.2,12.3,12.4,12.5,12.6,12.7,12.8,13.0,13.1,13.2,13.3,13.5,13.6,13.7,13.8,14.0,14.1,14.3,14.4,14.5,14.7,14.8,15.0,15.1,15.3]\n",
        "print(len(SDM2_BB_PB_024_PEREMPUAN))\n"
      ]
    },
    {
      "cell_type": "code",
      "execution_count": 13,
      "metadata": {
        "colab": {
          "base_uri": "https://localhost:8080/"
        },
        "id": "8ZdUnCdkOvXT",
        "outputId": "3f7c51e3-a4cb-4e39-b3e9-64e4c8d20b4e"
      },
      "outputs": [
        {
          "output_type": "stream",
          "name": "stdout",
          "text": [
            "131\n"
          ]
        }
      ],
      "source": [
        "SD1_BB_PB_024_LAKI_LAKI=[2.7,2.8,2.9,3.0,3.0,3.1,3.2,3.3,3.4,3.5,3.6,3.8,3.9,4.0,4.1,4.2,4.4,4.5,4.7,4.8,5.0,5.1,5.3,5.4,5.6,5.7,5.9,6.1,6.2,6.4,6.5,6.7,6.8,7.0,7.1,7.2,7.4,7.5,7.6,7.8,7.9,8.0,8.2,8.3,8.4,8.5,8.7,8.8,8.9,9.0,9.2,9.3,9.4,9.5,9.6,9.8,9.9,10.0,10.1,10.2,10.3,10.4,10.6,10.7,10.8,10.9,11.0,11.1,11.2,11.3,11.4,11.5,11.6,11.7,11.8,11.9,12.0,12.1,12.2,12.4,12.5,12.6,12.8,12.9,13.0,13.2,13.3,13.4,13.5,13.7,13.8,13.9,14.1,14.2,14.3,14.4,14.6,14.7,14.8,14.9,15.1,15.2,15.3,15.5,15.6,15.7,15.9,16.0,16.2,16.3,16.5,16.6,16.8,16.9,17.1,17.3,17.4,17.6,17.8,17.9,18.1,18.3,18.5,18.6,18.8,19.0,19.2,19.4,19.6,19.8,20.0]\n",
        "print(len(SD1_BB_PB_024_LAKI_LAKI))\n"
      ]
    },
    {
      "cell_type": "code",
      "execution_count": 14,
      "metadata": {
        "colab": {
          "base_uri": "https://localhost:8080/"
        },
        "id": "0trxpPNDOvgZ",
        "outputId": "efbf6f97-7153-4cee-8167-1adc007eff21"
      },
      "outputs": [
        {
          "output_type": "stream",
          "name": "stdout",
          "text": [
            "131\n"
          ]
        }
      ],
      "source": [
        "SD1_BB_PB_024_PEREMPUAN=[2.7,2.8,2.9,3.0,3.1,3.2,3.3,3.4,3.5,3.6,3.7,3.8,3.9,4.0,4.2,4.3,4.4,4.6,4.7,4.8,5.0,5.1,5.3,5.4,5.6,5.7,5.9,6.0,6.2,6.3,6.4,6.6,6.7,6.9,7.0,7.1,7.3,7.4,7.5,7.6,7.8,7.9,8.0,8.1,8.3,8.4,8.5,8.6,8.7,8.8,9.0,9.1,9.2,9.3,9.4,9.5,9.6,9.7,9.8,9.9,10.0,10.1,10.2,10.3,10.4,10.5,10.6,10.7,10.8,10.9,11.0,11.2,11.3,11.4,11.5,11.6,11.8,11.9,12.0,12.1,12.3,12.4,12.6,12.7,12.8,13.0,13.1,13.2,13.4,13.5,13.7,13.8,13.9,14.1,14.2,14.3,14.5,14.6,14.7,14.9,15.0,15.2,15.3,15.4,15.6,15.7,15.9,16.0,16.2,16.3,16.5,16.6,16.8,17.0,17.1,17.3,17.5,17.6,17.8,18.0,18.2,18.4,18.5,18.7,18.9,19.1,19.3,19.5,19.7,20.0,20.2]\n",
        "print(len(SD1_BB_PB_024_PEREMPUAN))\n"
      ]
    },
    {
      "cell_type": "code",
      "execution_count": 15,
      "metadata": {
        "colab": {
          "base_uri": "https://localhost:8080/"
        },
        "id": "aWeyCrBlTXu0",
        "outputId": "497ab271-508d-4baa-99d3-a600f6158849"
      },
      "outputs": [
        {
          "output_type": "stream",
          "name": "stdout",
          "text": [
            "131\n"
          ]
        }
      ],
      "source": [
        "SD2_BB_PB_024_LAKI_LAKI = [3.0,3.1,3.1,3.2,3.3,3.4,3.6,3.7,3.8,3.9,4.0,4.1,4.2,4.4,4.5,4.6,4.8,4.9,5.1,5.3,5.4,5.6,5.8,5.9,6.1,6.3,6.4,6.6,6.8,7.0,7.1,7.3,7.4,7.6,7.7,7.9,8.0,8.2,8.3,8.5,8.6,8.7,8.9,9.0,9.2,9.3,9.4,9.6,9.7,9.8,10.0,10.1,10.2,10.4,10.5,10.6,10.8,10.9,11.0,11.2,11.3,11.4,11.5,11.6,11.7,11.9,12.0,12.1,12.2,12.3,12.4,12.5,12.6,12.7,12.8,13.0,13.1,13.2,13.3,13.5,13.6,13.7,13.9,14.0,14.2,14.3,14.5,14.6,14.7,14.9,15.0,15.1,15.3,15.4,15.6,15.7,15.8,16.0,16.1,16.3,16.4,16.5,16.7,16.8,17.0,17.1,17.3,17.5,17.6,17.8,18.0,18.1,18.3,18.5,18.7,18.8,19.0,19.2,19.4,19.6,19.8,20.0,20.2,20.4,20.6,20.8,21.0,21.2,21.4,21.7,21.9]\n",
        "print(len(SD2_BB_PB_024_LAKI_LAKI))\n"
      ]
    },
    {
      "cell_type": "code",
      "execution_count": 16,
      "metadata": {
        "colab": {
          "base_uri": "https://localhost:8080/"
        },
        "id": "U18w7PvHTZTi",
        "outputId": "aefd4a8e-879b-43de-f3c6-067d9fccc7e8"
      },
      "outputs": [
        {
          "output_type": "stream",
          "name": "stdout",
          "text": [
            "131\n"
          ]
        }
      ],
      "source": [
        "SD2_BB_PB_024_PEREMPUAN = [3.0,3.1,3.2,3.3,3.4,3.5,3.6,3.7,3.8,3.9,4.0,4.2,4.3,4.4,4.6,4.7,4.9,5.0,5.2,5.3,5.5,5.7,5.8,6.0,6.1,6.3,6.5,6.6,6.8,6.9,7.1,7.3,7.4,7.6,7.7,7.8,8.0,8.1,8.3,8.4,8.6,8.7,8.8,9.0,9.1,9.2,9.4,9.5,9.6,9.7,9.9,10.0,10.1,10.2,10.3,10.5,10.6,10.7,10.8,10.9,11.0,11.1,11.2,11.4,11.5,11.6,11.7,11.8,11.9,12.0,12.1,12.3,12.4,12.5,12.6,12.8,12.9,13.1,13.2,13.3,13.5,13.6,13.8,13.9,14.1,14.2,14.4,14.5,14.7,14.8,15.0,15.1,15.3,15.5,15.6,15.8,15.9,16.1,16.2,16.4,16.5,16.7,16.8,17.0,17.1,17.3,17.5,17.6,17.8,18.0,18.1,18.3,18.5,18.7,18.9,19.0,19.2,19.4,19.6,19.8,20.0,20.2,20.5,20.7,20.9,21.1,21.3,21.6,21.8,22.0,22.3]\n",
        "print(len(SD2_BB_PB_024_PEREMPUAN))\n"
      ]
    },
    {
      "cell_type": "code",
      "execution_count": 17,
      "metadata": {
        "colab": {
          "base_uri": "https://localhost:8080/"
        },
        "id": "F5FPDGFdTc13",
        "outputId": "9c2b7e3b-caa5-4f4c-e8ff-45ca5a330023"
      },
      "outputs": [
        {
          "output_type": "stream",
          "name": "stdout",
          "text": [
            "131\n"
          ]
        }
      ],
      "source": [
        "SD3_BB_PB_024_LAKI_LAKI=[3.3,3.4,3.5,3.6,3.7,3.8,3.9,4.0,4.2,4.3,4.4,4.5,4.7,4.8,5.0,5.1,5.3,5.4,5.6,5.8,6.0,6.1,6.3,6.5,6.7,6.9,7.1,7.2,7.4,7.6,7.8,8.0,8.1,8.3,8.5,8.6,8.8,8.9,9.1,9.3,9.4,9.6,9.7,9.9,10.0,10.2,10.3,10.5,10.6,10.8,10.9,11.1,11.2,11.3,11.5,11.6,11.8,11.9,12.1,12.2,12.3,12.5,12.6,12.7,12.8,13.0,13.1,13.2,13.3,13.4,13.6,13.7,13.8,13.9,14.0,14.2,14.3,14.4,14.6,14.7,14.9,15.0,15.2,15.3,15.5,15.6,15.8,15.9,16.1,16.2,16.4,16.5,16.7,16.8,17.0,17.1,17.3,17.4,17.6,17.7,17.9,18.0,18.2,18.4,18.5,18.7,18.9,19.1,19.2,19.4,19.6,19.8,20.0,20.2,20.4,20.6,20.8,21.0,21.2,21.5,21.7,21.9,22.1,22.4,22.6,22.8,23.1,23.3,23.6,23.8,24.1]\n",
        "print(len(SD3_BB_PB_024_LAKI_LAKI))\n"
      ]
    },
    {
      "cell_type": "code",
      "execution_count": 18,
      "metadata": {
        "colab": {
          "base_uri": "https://localhost:8080/"
        },
        "id": "_sijZVgCTe1h",
        "outputId": "f9e37b7a-692d-4870-f692-f5f00053dbb9"
      },
      "outputs": [
        {
          "output_type": "stream",
          "name": "stdout",
          "text": [
            "131\n"
          ]
        }
      ],
      "source": [
        "SD3_BB_PB_024_PEREMPUAN = [3.3,3.4,3.5,3.6,3.7,3.8,4.0,4.1,4.2,4.3,4.5,4.6,4.8,4.9,5.1,5.2,5.4,5.5,5.7,5.9,6.1,6.3,6.4,6.6,6.8,7.0,7.1,7.3,7.5,7.7,7.8,8.0,8.2,8.4,8.5,8.7,8.8,9.0,9.1,9.3,9.5,9.6,9.8,9.9,10.0,10.2,10.3,10.5,10.6,10.7,10.9,11.0,11.1,11.3,11.4,11.5,11.7,11.8,11.9,12.0,12.2,12.3,12.4,12.5,12.6,12.8,12.9,13.0,13.1,13.3,13.4,13.5,13.7,13.8,13.9,14.1,14.2,14.4,14.5,14.7,14.9,15.0,15.2,15.4,15.5,15.7,15.9,16.0,16.2,16.4,16.5,16.7,16.9,17.0,17.2,17.4,17.5,17.7,17.9,18.0,18.2,18.4,18.6,18.7,18.9,19.1,19.3,19.5,19.6,19.8,20.0,20.2,20.4,20.6,20.8,21.0,21.3,21.5,21.7,21.9,22.2,22.4,22.6,22.9,23.1,23.4,23.6,23.9,24.2,24.4,24.7]\n",
        "print(len(SD3_BB_PB_024_PEREMPUAN))"
      ]
    },
    {
      "cell_type": "markdown",
      "metadata": {
        "id": "L_sZFcxtKrHy"
      },
      "source": [
        "## clean kelas severely wasted"
      ]
    },
    {
      "cell_type": "markdown",
      "metadata": {
        "id": "FZU1ylj-NOiC"
      },
      "source": [
        "### Laki-Laki"
      ]
    },
    {
      "cell_type": "code",
      "execution_count": 19,
      "metadata": {
        "id": "qrmCr2hR-2An"
      },
      "outputs": [],
      "source": [
        "for i in range(len(TINGGI_BB_PB_024)):\n",
        "  severely_wasted = (\n",
        "      (data_024['Jenis Kelamin'] == 'laki-laki') &\n",
        "      (data_024['Tinggi Badan (cm)'] == TINGGI_BB_PB_024[i]) &\n",
        "      (data_024['Berat Badan (kg)'] >= SDM3_BB_PB_024_LAKI_LAKI[i]) &\n",
        "      (data_024['Status'] == 'severely wasted')\n",
        "  )\n",
        "  data_024 = data_024.drop(data_024[severely_wasted].index)"
      ]
    },
    {
      "cell_type": "markdown",
      "metadata": {
        "id": "LVLdFKKaZPJ9"
      },
      "source": [
        "### Perempuan\n"
      ]
    },
    {
      "cell_type": "code",
      "execution_count": 20,
      "metadata": {
        "id": "XKVyLNwUZSJT"
      },
      "outputs": [],
      "source": [
        "for i in range(len(TINGGI_BB_PB_024)):\n",
        "  severely_wasted = (\n",
        "      (data_024['Jenis Kelamin'] == 'perempuan') &\n",
        "      (data_024['Tinggi Badan (cm)'] == TINGGI_BB_PB_024[i]) &\n",
        "      (data_024['Berat Badan (kg)'] >= SDM3_BB_PB_024_PEREMPUAN[i]) &\n",
        "      (data_024['Status'] == 'severely wasted')\n",
        "  )\n",
        "  data_024 = data_024.drop(data_024[severely_wasted].index)\n"
      ]
    },
    {
      "cell_type": "markdown",
      "metadata": {
        "id": "OF2ekwQqKzCV"
      },
      "source": [
        "## clean kelas wasted"
      ]
    },
    {
      "cell_type": "markdown",
      "metadata": {
        "id": "thG6vjYQNeK9"
      },
      "source": [
        "### Laki-Laki\n"
      ]
    },
    {
      "cell_type": "code",
      "execution_count": 21,
      "metadata": {
        "id": "2_79KX4cCws4"
      },
      "outputs": [],
      "source": [
        "for i in range(len(TINGGI_BB_PB_024)):\n",
        "  wasted = (\n",
        "      (data_024['Jenis Kelamin'] == 'laki-laki') &\n",
        "      (data_024['Tinggi Badan (cm)'] == TINGGI_BB_PB_024[i]) &\n",
        "      ((data_024['Berat Badan (kg)'] < SDM3_BB_PB_024_LAKI_LAKI[i]) | (data_024['Berat Badan (kg)'] >= SDM2_BB_PB_024_LAKI_LAKI[i]))&\n",
        "      (data_024['Status'] == 'wasted')\n",
        "  )\n",
        "  data_024 = data_024.drop(data_024[wasted].index)\n"
      ]
    },
    {
      "cell_type": "markdown",
      "metadata": {
        "id": "8D4KZf-FY0rP"
      },
      "source": [
        "### Prempuan\n"
      ]
    },
    {
      "cell_type": "code",
      "execution_count": 22,
      "metadata": {
        "id": "9rQ9qKOuY5bB"
      },
      "outputs": [],
      "source": [
        "for i in range(len(TINGGI_BB_PB_024)):\n",
        "  wasted = (\n",
        "      (data_024['Jenis Kelamin'] == 'perempuan') &\n",
        "      (data_024['Tinggi Badan (cm)'] == TINGGI_BB_PB_024[i]) &\n",
        "      ((data_024['Berat Badan (kg)'] < SDM3_BB_PB_024_PEREMPUAN[i]) | (data_024['Berat Badan (kg)'] >= SDM2_BB_PB_024_PEREMPUAN[i]))&\n",
        "      (data_024['Status'] == 'wasted')\n",
        "  )\n",
        "  data_024 = data_024.drop(data_024[wasted].index)\n"
      ]
    },
    {
      "cell_type": "markdown",
      "metadata": {
        "id": "aGXGb80WK3SA"
      },
      "source": [
        "## clean kelas normal\n"
      ]
    },
    {
      "cell_type": "markdown",
      "metadata": {
        "id": "_HLcPhBhN9sI"
      },
      "source": [
        "### Laki-Laki"
      ]
    },
    {
      "cell_type": "code",
      "execution_count": 23,
      "metadata": {
        "id": "lU8Dxb3cOA67"
      },
      "outputs": [],
      "source": [
        "for i in range(len(TINGGI_BB_PB_024)):\n",
        "  normal = (\n",
        "      (data_024['Jenis Kelamin'] == 'laki-laki') &\n",
        "      (data_024['Tinggi Badan (cm)'] == TINGGI_BB_PB_024[i]) &\n",
        "      ((data_024['Berat Badan (kg)'] < SDM2_BB_PB_024_LAKI_LAKI[i]) | (data_024['Berat Badan (kg)'] > SD1_BB_PB_024_LAKI_LAKI[i]))&\n",
        "      (data_024['Status'] == 'normal')\n",
        "  )\n",
        "  data_024 = data_024.drop(data_024[normal].index)\n"
      ]
    },
    {
      "cell_type": "markdown",
      "metadata": {
        "id": "sjaaxwMMZusx"
      },
      "source": [
        "### Perempuan"
      ]
    },
    {
      "cell_type": "code",
      "execution_count": 24,
      "metadata": {
        "id": "Bf56LtyTZyPQ"
      },
      "outputs": [],
      "source": [
        "for i in range(len(TINGGI_BB_PB_024)):\n",
        "  normal = (\n",
        "      (data_024['Jenis Kelamin'] == 'perempuan') &\n",
        "      (data_024['Tinggi Badan (cm)'] == TINGGI_BB_PB_024[i]) &\n",
        "      ((data_024['Berat Badan (kg)'] < SDM2_BB_PB_024_PEREMPUAN[i]) | (data_024['Berat Badan (kg)'] > SD1_BB_PB_024_PEREMPUAN[i]))&\n",
        "      (data_024['Status'] == 'normal')\n",
        "  )\n",
        "  data_024 = data_024.drop(data_024[normal].index)\n"
      ]
    },
    {
      "cell_type": "markdown",
      "metadata": {
        "id": "o2MlT9riK-L9"
      },
      "source": [
        "## clean kelas beresiko overweight"
      ]
    },
    {
      "cell_type": "markdown",
      "metadata": {
        "id": "_Fao1CaSaXOB"
      },
      "source": [
        "### Laki-Laki\n"
      ]
    },
    {
      "cell_type": "code",
      "execution_count": 25,
      "metadata": {
        "id": "htVx1UTMapxq"
      },
      "outputs": [],
      "source": [
        "for i in range(len(TINGGI_BB_PB_024)):\n",
        "  berisiko_overweight = (\n",
        "      (data_024['Jenis Kelamin'] == 'laki-laki') &\n",
        "      (data_024['Tinggi Badan (cm)'] == TINGGI_BB_PB_024[i]) &\n",
        "      ((data_024['Berat Badan (kg)'] <= SD1_BB_PB_024_LAKI_LAKI[i]) | (data_024['Berat Badan (kg)'] > SD2_BB_PB_024_LAKI_LAKI[i]))&\n",
        "      (data_024['Status'] == 'berisiko overweight')\n",
        "  )\n",
        "  data_024 = data_024.drop(data_024[berisiko_overweight].index)\n"
      ]
    },
    {
      "cell_type": "markdown",
      "metadata": {
        "id": "XfrvZCwPbWwy"
      },
      "source": [
        "### Perempuan"
      ]
    },
    {
      "cell_type": "code",
      "execution_count": 26,
      "metadata": {
        "id": "w1UTG50CbaVD"
      },
      "outputs": [],
      "source": [
        "for i in range(len(TINGGI_BB_PB_024)):\n",
        "  berisiko_overweight = (\n",
        "      (data_024['Jenis Kelamin'] == 'perempuan') &\n",
        "      (data_024['Tinggi Badan (cm)'] == TINGGI_BB_PB_024[i]) &\n",
        "      ((data_024['Berat Badan (kg)'] <= SD1_BB_PB_024_PEREMPUAN[i]) | (data_024['Berat Badan (kg)'] > SD2_BB_PB_024_PEREMPUAN[i]))&\n",
        "      (data_024['Status'] == 'berisiko overweight')\n",
        "  )\n",
        "  data_024 = data_024.drop(data_024[berisiko_overweight].index)\n"
      ]
    },
    {
      "cell_type": "markdown",
      "metadata": {
        "id": "mvtwFWbCk5Qm"
      },
      "source": [
        "## clean kelas overweight\n"
      ]
    },
    {
      "cell_type": "markdown",
      "metadata": {
        "id": "SSbEDrOdlAET"
      },
      "source": [
        "### laki-laki\n"
      ]
    },
    {
      "cell_type": "code",
      "execution_count": 27,
      "metadata": {
        "id": "V9vakHUTkpxr"
      },
      "outputs": [],
      "source": [
        "for i in range(len(TINGGI_BB_PB_024)):\n",
        "  overweight = (\n",
        "      (data_024['Jenis Kelamin'] == 'laki-laki') &\n",
        "      (data_024['Tinggi Badan (cm)'] == TINGGI_BB_PB_024[i]) &\n",
        "      ((data_024['Berat Badan (kg)'] <= SD2_BB_PB_024_LAKI_LAKI[i]) | (data_024['Berat Badan (kg)'] > SD3_BB_PB_024_LAKI_LAKI[i]))&\n",
        "      (data_024['Status'] == 'overweight')\n",
        "  )\n",
        "  data_024 = data_024.drop(data_024[overweight].index)"
      ]
    },
    {
      "cell_type": "markdown",
      "metadata": {
        "id": "nYVzOiMJlM86"
      },
      "source": [
        "### Perempuan\n"
      ]
    },
    {
      "cell_type": "code",
      "execution_count": 28,
      "metadata": {
        "id": "McZHJOdklPX_"
      },
      "outputs": [],
      "source": [
        "for i in range(len(TINGGI_BB_PB_024)):\n",
        "  overweight = (\n",
        "      (data_024['Jenis Kelamin'] == 'perempuan') &\n",
        "      (data_024['Tinggi Badan (cm)'] == TINGGI_BB_PB_024[i]) &\n",
        "      ((data_024['Berat Badan (kg)'] <= SD2_BB_PB_024_PEREMPUAN[i]) | (data_024['Berat Badan (kg)'] > SD3_BB_PB_024_PEREMPUAN[i]))&\n",
        "      (data_024['Status'] == 'overweight')\n",
        "  )\n",
        "  data_024 = data_024.drop(data_024[overweight].index)"
      ]
    },
    {
      "cell_type": "markdown",
      "metadata": {
        "id": "xQje-o0Qlwyi"
      },
      "source": [
        "## Clean Kelas Obesitas"
      ]
    },
    {
      "cell_type": "markdown",
      "metadata": {
        "id": "1tl9kql4l1GF"
      },
      "source": [
        "### laki-laki\n"
      ]
    },
    {
      "cell_type": "code",
      "execution_count": 29,
      "metadata": {
        "id": "yI_pU69yl71I"
      },
      "outputs": [],
      "source": [
        "for i in range(len(TINGGI_BB_PB_024)):\n",
        "  obesitas = (\n",
        "      (data_024['Jenis Kelamin'] == 'laki-laki') &\n",
        "      (data_024['Tinggi Badan (cm)'] == TINGGI_BB_PB_024[i]) &\n",
        "      (data_024['Berat Badan (kg)'] < SD3_BB_PB_024_LAKI_LAKI[i])&\n",
        "      (data_024['Status'] == 'obesitas')\n",
        "  )\n",
        "  data_024 = data_024.drop(data_024[obesitas].index)"
      ]
    },
    {
      "cell_type": "markdown",
      "metadata": {
        "id": "XXJOSFZUl4fz"
      },
      "source": [
        "### perempuan\n"
      ]
    },
    {
      "cell_type": "code",
      "execution_count": 30,
      "metadata": {
        "id": "SagtUxtKmVCD"
      },
      "outputs": [],
      "source": [
        "for i in range(len(TINGGI_BB_PB_024)):\n",
        "  obesitas = (\n",
        "      (data_024['Jenis Kelamin'] == 'perempuan') &\n",
        "      (data_024['Tinggi Badan (cm)'] == TINGGI_BB_PB_024[i]) &\n",
        "      (data_024['Berat Badan (kg)'] < SD3_BB_PB_024_PEREMPUAN[i])&\n",
        "      (data_024['Status'] == 'obesitas')\n",
        "  )\n",
        "  data_024 = data_024.drop(data_024[obesitas].index)"
      ]
    },
    {
      "cell_type": "code",
      "execution_count": 31,
      "metadata": {
        "colab": {
          "base_uri": "https://localhost:8080/",
          "height": 300
        },
        "id": "lScDB9hICwvZ",
        "outputId": "42363e45-35b5-4656-8801-c0368bf194ce"
      },
      "outputs": [
        {
          "output_type": "execute_result",
          "data": {
            "text/plain": [
              "       Tinggi Badan (cm)  Berat Badan (kg)\n",
              "count       1.520537e+06      1.520537e+06\n",
              "mean        8.522750e+01      1.233716e+01\n",
              "std         1.749194e+01      4.841969e+00\n",
              "min         4.500000e+01      1.700000e+00\n",
              "25%         7.200000e+01      8.796000e+00\n",
              "50%         8.800000e+01      1.235100e+01\n",
              "75%         1.005000e+02      1.576800e+01\n",
              "max         1.100000e+02      2.500100e+01"
            ],
            "text/html": [
              "\n",
              "  <div id=\"df-c2c19b28-a393-4561-8ac8-d70712c62673\" class=\"colab-df-container\">\n",
              "    <div>\n",
              "<style scoped>\n",
              "    .dataframe tbody tr th:only-of-type {\n",
              "        vertical-align: middle;\n",
              "    }\n",
              "\n",
              "    .dataframe tbody tr th {\n",
              "        vertical-align: top;\n",
              "    }\n",
              "\n",
              "    .dataframe thead th {\n",
              "        text-align: right;\n",
              "    }\n",
              "</style>\n",
              "<table border=\"1\" class=\"dataframe\">\n",
              "  <thead>\n",
              "    <tr style=\"text-align: right;\">\n",
              "      <th></th>\n",
              "      <th>Tinggi Badan (cm)</th>\n",
              "      <th>Berat Badan (kg)</th>\n",
              "    </tr>\n",
              "  </thead>\n",
              "  <tbody>\n",
              "    <tr>\n",
              "      <th>count</th>\n",
              "      <td>1.520537e+06</td>\n",
              "      <td>1.520537e+06</td>\n",
              "    </tr>\n",
              "    <tr>\n",
              "      <th>mean</th>\n",
              "      <td>8.522750e+01</td>\n",
              "      <td>1.233716e+01</td>\n",
              "    </tr>\n",
              "    <tr>\n",
              "      <th>std</th>\n",
              "      <td>1.749194e+01</td>\n",
              "      <td>4.841969e+00</td>\n",
              "    </tr>\n",
              "    <tr>\n",
              "      <th>min</th>\n",
              "      <td>4.500000e+01</td>\n",
              "      <td>1.700000e+00</td>\n",
              "    </tr>\n",
              "    <tr>\n",
              "      <th>25%</th>\n",
              "      <td>7.200000e+01</td>\n",
              "      <td>8.796000e+00</td>\n",
              "    </tr>\n",
              "    <tr>\n",
              "      <th>50%</th>\n",
              "      <td>8.800000e+01</td>\n",
              "      <td>1.235100e+01</td>\n",
              "    </tr>\n",
              "    <tr>\n",
              "      <th>75%</th>\n",
              "      <td>1.005000e+02</td>\n",
              "      <td>1.576800e+01</td>\n",
              "    </tr>\n",
              "    <tr>\n",
              "      <th>max</th>\n",
              "      <td>1.100000e+02</td>\n",
              "      <td>2.500100e+01</td>\n",
              "    </tr>\n",
              "  </tbody>\n",
              "</table>\n",
              "</div>\n",
              "    <div class=\"colab-df-buttons\">\n",
              "\n",
              "  <div class=\"colab-df-container\">\n",
              "    <button class=\"colab-df-convert\" onclick=\"convertToInteractive('df-c2c19b28-a393-4561-8ac8-d70712c62673')\"\n",
              "            title=\"Convert this dataframe to an interactive table.\"\n",
              "            style=\"display:none;\">\n",
              "\n",
              "  <svg xmlns=\"http://www.w3.org/2000/svg\" height=\"24px\" viewBox=\"0 -960 960 960\">\n",
              "    <path d=\"M120-120v-720h720v720H120Zm60-500h600v-160H180v160Zm220 220h160v-160H400v160Zm0 220h160v-160H400v160ZM180-400h160v-160H180v160Zm440 0h160v-160H620v160ZM180-180h160v-160H180v160Zm440 0h160v-160H620v160Z\"/>\n",
              "  </svg>\n",
              "    </button>\n",
              "\n",
              "  <style>\n",
              "    .colab-df-container {\n",
              "      display:flex;\n",
              "      gap: 12px;\n",
              "    }\n",
              "\n",
              "    .colab-df-convert {\n",
              "      background-color: #E8F0FE;\n",
              "      border: none;\n",
              "      border-radius: 50%;\n",
              "      cursor: pointer;\n",
              "      display: none;\n",
              "      fill: #1967D2;\n",
              "      height: 32px;\n",
              "      padding: 0 0 0 0;\n",
              "      width: 32px;\n",
              "    }\n",
              "\n",
              "    .colab-df-convert:hover {\n",
              "      background-color: #E2EBFA;\n",
              "      box-shadow: 0px 1px 2px rgba(60, 64, 67, 0.3), 0px 1px 3px 1px rgba(60, 64, 67, 0.15);\n",
              "      fill: #174EA6;\n",
              "    }\n",
              "\n",
              "    .colab-df-buttons div {\n",
              "      margin-bottom: 4px;\n",
              "    }\n",
              "\n",
              "    [theme=dark] .colab-df-convert {\n",
              "      background-color: #3B4455;\n",
              "      fill: #D2E3FC;\n",
              "    }\n",
              "\n",
              "    [theme=dark] .colab-df-convert:hover {\n",
              "      background-color: #434B5C;\n",
              "      box-shadow: 0px 1px 3px 1px rgba(0, 0, 0, 0.15);\n",
              "      filter: drop-shadow(0px 1px 2px rgba(0, 0, 0, 0.3));\n",
              "      fill: #FFFFFF;\n",
              "    }\n",
              "  </style>\n",
              "\n",
              "    <script>\n",
              "      const buttonEl =\n",
              "        document.querySelector('#df-c2c19b28-a393-4561-8ac8-d70712c62673 button.colab-df-convert');\n",
              "      buttonEl.style.display =\n",
              "        google.colab.kernel.accessAllowed ? 'block' : 'none';\n",
              "\n",
              "      async function convertToInteractive(key) {\n",
              "        const element = document.querySelector('#df-c2c19b28-a393-4561-8ac8-d70712c62673');\n",
              "        const dataTable =\n",
              "          await google.colab.kernel.invokeFunction('convertToInteractive',\n",
              "                                                    [key], {});\n",
              "        if (!dataTable) return;\n",
              "\n",
              "        const docLinkHtml = 'Like what you see? Visit the ' +\n",
              "          '<a target=\"_blank\" href=https://colab.research.google.com/notebooks/data_table.ipynb>data table notebook</a>'\n",
              "          + ' to learn more about interactive tables.';\n",
              "        element.innerHTML = '';\n",
              "        dataTable['output_type'] = 'display_data';\n",
              "        await google.colab.output.renderOutput(dataTable, element);\n",
              "        const docLink = document.createElement('div');\n",
              "        docLink.innerHTML = docLinkHtml;\n",
              "        element.appendChild(docLink);\n",
              "      }\n",
              "    </script>\n",
              "  </div>\n",
              "\n",
              "\n",
              "<div id=\"df-def5f894-5c18-4ef0-a413-2f80730a4f91\">\n",
              "  <button class=\"colab-df-quickchart\" onclick=\"quickchart('df-def5f894-5c18-4ef0-a413-2f80730a4f91')\"\n",
              "            title=\"Suggest charts\"\n",
              "            style=\"display:none;\">\n",
              "\n",
              "<svg xmlns=\"http://www.w3.org/2000/svg\" height=\"24px\"viewBox=\"0 0 24 24\"\n",
              "     width=\"24px\">\n",
              "    <g>\n",
              "        <path d=\"M19 3H5c-1.1 0-2 .9-2 2v14c0 1.1.9 2 2 2h14c1.1 0 2-.9 2-2V5c0-1.1-.9-2-2-2zM9 17H7v-7h2v7zm4 0h-2V7h2v10zm4 0h-2v-4h2v4z\"/>\n",
              "    </g>\n",
              "</svg>\n",
              "  </button>\n",
              "\n",
              "<style>\n",
              "  .colab-df-quickchart {\n",
              "      --bg-color: #E8F0FE;\n",
              "      --fill-color: #1967D2;\n",
              "      --hover-bg-color: #E2EBFA;\n",
              "      --hover-fill-color: #174EA6;\n",
              "      --disabled-fill-color: #AAA;\n",
              "      --disabled-bg-color: #DDD;\n",
              "  }\n",
              "\n",
              "  [theme=dark] .colab-df-quickchart {\n",
              "      --bg-color: #3B4455;\n",
              "      --fill-color: #D2E3FC;\n",
              "      --hover-bg-color: #434B5C;\n",
              "      --hover-fill-color: #FFFFFF;\n",
              "      --disabled-bg-color: #3B4455;\n",
              "      --disabled-fill-color: #666;\n",
              "  }\n",
              "\n",
              "  .colab-df-quickchart {\n",
              "    background-color: var(--bg-color);\n",
              "    border: none;\n",
              "    border-radius: 50%;\n",
              "    cursor: pointer;\n",
              "    display: none;\n",
              "    fill: var(--fill-color);\n",
              "    height: 32px;\n",
              "    padding: 0;\n",
              "    width: 32px;\n",
              "  }\n",
              "\n",
              "  .colab-df-quickchart:hover {\n",
              "    background-color: var(--hover-bg-color);\n",
              "    box-shadow: 0 1px 2px rgba(60, 64, 67, 0.3), 0 1px 3px 1px rgba(60, 64, 67, 0.15);\n",
              "    fill: var(--button-hover-fill-color);\n",
              "  }\n",
              "\n",
              "  .colab-df-quickchart-complete:disabled,\n",
              "  .colab-df-quickchart-complete:disabled:hover {\n",
              "    background-color: var(--disabled-bg-color);\n",
              "    fill: var(--disabled-fill-color);\n",
              "    box-shadow: none;\n",
              "  }\n",
              "\n",
              "  .colab-df-spinner {\n",
              "    border: 2px solid var(--fill-color);\n",
              "    border-color: transparent;\n",
              "    border-bottom-color: var(--fill-color);\n",
              "    animation:\n",
              "      spin 1s steps(1) infinite;\n",
              "  }\n",
              "\n",
              "  @keyframes spin {\n",
              "    0% {\n",
              "      border-color: transparent;\n",
              "      border-bottom-color: var(--fill-color);\n",
              "      border-left-color: var(--fill-color);\n",
              "    }\n",
              "    20% {\n",
              "      border-color: transparent;\n",
              "      border-left-color: var(--fill-color);\n",
              "      border-top-color: var(--fill-color);\n",
              "    }\n",
              "    30% {\n",
              "      border-color: transparent;\n",
              "      border-left-color: var(--fill-color);\n",
              "      border-top-color: var(--fill-color);\n",
              "      border-right-color: var(--fill-color);\n",
              "    }\n",
              "    40% {\n",
              "      border-color: transparent;\n",
              "      border-right-color: var(--fill-color);\n",
              "      border-top-color: var(--fill-color);\n",
              "    }\n",
              "    60% {\n",
              "      border-color: transparent;\n",
              "      border-right-color: var(--fill-color);\n",
              "    }\n",
              "    80% {\n",
              "      border-color: transparent;\n",
              "      border-right-color: var(--fill-color);\n",
              "      border-bottom-color: var(--fill-color);\n",
              "    }\n",
              "    90% {\n",
              "      border-color: transparent;\n",
              "      border-bottom-color: var(--fill-color);\n",
              "    }\n",
              "  }\n",
              "</style>\n",
              "\n",
              "  <script>\n",
              "    async function quickchart(key) {\n",
              "      const quickchartButtonEl =\n",
              "        document.querySelector('#' + key + ' button');\n",
              "      quickchartButtonEl.disabled = true;  // To prevent multiple clicks.\n",
              "      quickchartButtonEl.classList.add('colab-df-spinner');\n",
              "      try {\n",
              "        const charts = await google.colab.kernel.invokeFunction(\n",
              "            'suggestCharts', [key], {});\n",
              "      } catch (error) {\n",
              "        console.error('Error during call to suggestCharts:', error);\n",
              "      }\n",
              "      quickchartButtonEl.classList.remove('colab-df-spinner');\n",
              "      quickchartButtonEl.classList.add('colab-df-quickchart-complete');\n",
              "    }\n",
              "    (() => {\n",
              "      let quickchartButtonEl =\n",
              "        document.querySelector('#df-def5f894-5c18-4ef0-a413-2f80730a4f91 button');\n",
              "      quickchartButtonEl.style.display =\n",
              "        google.colab.kernel.accessAllowed ? 'block' : 'none';\n",
              "    })();\n",
              "  </script>\n",
              "</div>\n",
              "\n",
              "    </div>\n",
              "  </div>\n"
            ],
            "application/vnd.google.colaboratory.intrinsic+json": {
              "type": "dataframe",
              "summary": "{\n  \"name\": \"data_024\",\n  \"rows\": 8,\n  \"fields\": [\n    {\n      \"column\": \"Tinggi Badan (cm)\",\n      \"properties\": {\n        \"dtype\": \"number\",\n        \"std\": 537564.838682734,\n        \"min\": 17.49194479166779,\n        \"max\": 1520537.0,\n        \"num_unique_values\": 8,\n        \"samples\": [\n          85.22750252049111,\n          88.0,\n          1520537.0\n        ],\n        \"semantic_type\": \"\",\n        \"description\": \"\"\n      }\n    },\n    {\n      \"column\": \"Berat Badan (kg)\",\n      \"properties\": {\n        \"dtype\": \"number\",\n        \"std\": 537586.9311488057,\n        \"min\": 1.7,\n        \"max\": 1520537.0,\n        \"num_unique_values\": 8,\n        \"samples\": [\n          12.337158550564702,\n          12.351,\n          1520537.0\n        ],\n        \"semantic_type\": \"\",\n        \"description\": \"\"\n      }\n    }\n  ]\n}"
            }
          },
          "metadata": {},
          "execution_count": 31
        }
      ],
      "source": [
        "data_024.describe()"
      ]
    },
    {
      "cell_type": "code",
      "execution_count": 32,
      "metadata": {
        "colab": {
          "base_uri": "https://localhost:8080/"
        },
        "id": "pQQ_HrsvCwyu",
        "outputId": "476de057-442d-4fcb-a26b-0f080a4b4017"
      },
      "outputs": [
        {
          "output_type": "execute_result",
          "data": {
            "text/plain": [
              "0"
            ]
          },
          "metadata": {},
          "execution_count": 32
        }
      ],
      "source": [
        "data_024.duplicated().sum()\n"
      ]
    },
    {
      "cell_type": "code",
      "execution_count": 33,
      "metadata": {
        "id": "gq5T4QI9ts0h"
      },
      "outputs": [],
      "source": [
        "data_024.drop_duplicates(inplace=True)"
      ]
    },
    {
      "cell_type": "code",
      "execution_count": 34,
      "metadata": {
        "colab": {
          "base_uri": "https://localhost:8080/"
        },
        "id": "JSVDQlN5Cw6f",
        "outputId": "96dbfc1e-a887-4281-9888-1c078f526901"
      },
      "outputs": [
        {
          "output_type": "execute_result",
          "data": {
            "text/plain": [
              "0"
            ]
          },
          "metadata": {},
          "execution_count": 34
        }
      ],
      "source": [
        "data_024.duplicated().sum()"
      ]
    },
    {
      "cell_type": "code",
      "execution_count": 35,
      "metadata": {
        "colab": {
          "base_uri": "https://localhost:8080/",
          "height": 300
        },
        "id": "YWLGmkZNCw97",
        "outputId": "812aca91-fc76-4eeb-849b-391b61734a67"
      },
      "outputs": [
        {
          "output_type": "execute_result",
          "data": {
            "text/plain": [
              "       Tinggi Badan (cm)  Berat Badan (kg)\n",
              "count       1.520537e+06      1.520537e+06\n",
              "mean        8.522750e+01      1.233716e+01\n",
              "std         1.749194e+01      4.841969e+00\n",
              "min         4.500000e+01      1.700000e+00\n",
              "25%         7.200000e+01      8.796000e+00\n",
              "50%         8.800000e+01      1.235100e+01\n",
              "75%         1.005000e+02      1.576800e+01\n",
              "max         1.100000e+02      2.500100e+01"
            ],
            "text/html": [
              "\n",
              "  <div id=\"df-0cfef3e7-e2b3-43f8-9b78-06116ca1f98d\" class=\"colab-df-container\">\n",
              "    <div>\n",
              "<style scoped>\n",
              "    .dataframe tbody tr th:only-of-type {\n",
              "        vertical-align: middle;\n",
              "    }\n",
              "\n",
              "    .dataframe tbody tr th {\n",
              "        vertical-align: top;\n",
              "    }\n",
              "\n",
              "    .dataframe thead th {\n",
              "        text-align: right;\n",
              "    }\n",
              "</style>\n",
              "<table border=\"1\" class=\"dataframe\">\n",
              "  <thead>\n",
              "    <tr style=\"text-align: right;\">\n",
              "      <th></th>\n",
              "      <th>Tinggi Badan (cm)</th>\n",
              "      <th>Berat Badan (kg)</th>\n",
              "    </tr>\n",
              "  </thead>\n",
              "  <tbody>\n",
              "    <tr>\n",
              "      <th>count</th>\n",
              "      <td>1.520537e+06</td>\n",
              "      <td>1.520537e+06</td>\n",
              "    </tr>\n",
              "    <tr>\n",
              "      <th>mean</th>\n",
              "      <td>8.522750e+01</td>\n",
              "      <td>1.233716e+01</td>\n",
              "    </tr>\n",
              "    <tr>\n",
              "      <th>std</th>\n",
              "      <td>1.749194e+01</td>\n",
              "      <td>4.841969e+00</td>\n",
              "    </tr>\n",
              "    <tr>\n",
              "      <th>min</th>\n",
              "      <td>4.500000e+01</td>\n",
              "      <td>1.700000e+00</td>\n",
              "    </tr>\n",
              "    <tr>\n",
              "      <th>25%</th>\n",
              "      <td>7.200000e+01</td>\n",
              "      <td>8.796000e+00</td>\n",
              "    </tr>\n",
              "    <tr>\n",
              "      <th>50%</th>\n",
              "      <td>8.800000e+01</td>\n",
              "      <td>1.235100e+01</td>\n",
              "    </tr>\n",
              "    <tr>\n",
              "      <th>75%</th>\n",
              "      <td>1.005000e+02</td>\n",
              "      <td>1.576800e+01</td>\n",
              "    </tr>\n",
              "    <tr>\n",
              "      <th>max</th>\n",
              "      <td>1.100000e+02</td>\n",
              "      <td>2.500100e+01</td>\n",
              "    </tr>\n",
              "  </tbody>\n",
              "</table>\n",
              "</div>\n",
              "    <div class=\"colab-df-buttons\">\n",
              "\n",
              "  <div class=\"colab-df-container\">\n",
              "    <button class=\"colab-df-convert\" onclick=\"convertToInteractive('df-0cfef3e7-e2b3-43f8-9b78-06116ca1f98d')\"\n",
              "            title=\"Convert this dataframe to an interactive table.\"\n",
              "            style=\"display:none;\">\n",
              "\n",
              "  <svg xmlns=\"http://www.w3.org/2000/svg\" height=\"24px\" viewBox=\"0 -960 960 960\">\n",
              "    <path d=\"M120-120v-720h720v720H120Zm60-500h600v-160H180v160Zm220 220h160v-160H400v160Zm0 220h160v-160H400v160ZM180-400h160v-160H180v160Zm440 0h160v-160H620v160ZM180-180h160v-160H180v160Zm440 0h160v-160H620v160Z\"/>\n",
              "  </svg>\n",
              "    </button>\n",
              "\n",
              "  <style>\n",
              "    .colab-df-container {\n",
              "      display:flex;\n",
              "      gap: 12px;\n",
              "    }\n",
              "\n",
              "    .colab-df-convert {\n",
              "      background-color: #E8F0FE;\n",
              "      border: none;\n",
              "      border-radius: 50%;\n",
              "      cursor: pointer;\n",
              "      display: none;\n",
              "      fill: #1967D2;\n",
              "      height: 32px;\n",
              "      padding: 0 0 0 0;\n",
              "      width: 32px;\n",
              "    }\n",
              "\n",
              "    .colab-df-convert:hover {\n",
              "      background-color: #E2EBFA;\n",
              "      box-shadow: 0px 1px 2px rgba(60, 64, 67, 0.3), 0px 1px 3px 1px rgba(60, 64, 67, 0.15);\n",
              "      fill: #174EA6;\n",
              "    }\n",
              "\n",
              "    .colab-df-buttons div {\n",
              "      margin-bottom: 4px;\n",
              "    }\n",
              "\n",
              "    [theme=dark] .colab-df-convert {\n",
              "      background-color: #3B4455;\n",
              "      fill: #D2E3FC;\n",
              "    }\n",
              "\n",
              "    [theme=dark] .colab-df-convert:hover {\n",
              "      background-color: #434B5C;\n",
              "      box-shadow: 0px 1px 3px 1px rgba(0, 0, 0, 0.15);\n",
              "      filter: drop-shadow(0px 1px 2px rgba(0, 0, 0, 0.3));\n",
              "      fill: #FFFFFF;\n",
              "    }\n",
              "  </style>\n",
              "\n",
              "    <script>\n",
              "      const buttonEl =\n",
              "        document.querySelector('#df-0cfef3e7-e2b3-43f8-9b78-06116ca1f98d button.colab-df-convert');\n",
              "      buttonEl.style.display =\n",
              "        google.colab.kernel.accessAllowed ? 'block' : 'none';\n",
              "\n",
              "      async function convertToInteractive(key) {\n",
              "        const element = document.querySelector('#df-0cfef3e7-e2b3-43f8-9b78-06116ca1f98d');\n",
              "        const dataTable =\n",
              "          await google.colab.kernel.invokeFunction('convertToInteractive',\n",
              "                                                    [key], {});\n",
              "        if (!dataTable) return;\n",
              "\n",
              "        const docLinkHtml = 'Like what you see? Visit the ' +\n",
              "          '<a target=\"_blank\" href=https://colab.research.google.com/notebooks/data_table.ipynb>data table notebook</a>'\n",
              "          + ' to learn more about interactive tables.';\n",
              "        element.innerHTML = '';\n",
              "        dataTable['output_type'] = 'display_data';\n",
              "        await google.colab.output.renderOutput(dataTable, element);\n",
              "        const docLink = document.createElement('div');\n",
              "        docLink.innerHTML = docLinkHtml;\n",
              "        element.appendChild(docLink);\n",
              "      }\n",
              "    </script>\n",
              "  </div>\n",
              "\n",
              "\n",
              "<div id=\"df-fd5552bc-58cb-4f80-a851-217042477d39\">\n",
              "  <button class=\"colab-df-quickchart\" onclick=\"quickchart('df-fd5552bc-58cb-4f80-a851-217042477d39')\"\n",
              "            title=\"Suggest charts\"\n",
              "            style=\"display:none;\">\n",
              "\n",
              "<svg xmlns=\"http://www.w3.org/2000/svg\" height=\"24px\"viewBox=\"0 0 24 24\"\n",
              "     width=\"24px\">\n",
              "    <g>\n",
              "        <path d=\"M19 3H5c-1.1 0-2 .9-2 2v14c0 1.1.9 2 2 2h14c1.1 0 2-.9 2-2V5c0-1.1-.9-2-2-2zM9 17H7v-7h2v7zm4 0h-2V7h2v10zm4 0h-2v-4h2v4z\"/>\n",
              "    </g>\n",
              "</svg>\n",
              "  </button>\n",
              "\n",
              "<style>\n",
              "  .colab-df-quickchart {\n",
              "      --bg-color: #E8F0FE;\n",
              "      --fill-color: #1967D2;\n",
              "      --hover-bg-color: #E2EBFA;\n",
              "      --hover-fill-color: #174EA6;\n",
              "      --disabled-fill-color: #AAA;\n",
              "      --disabled-bg-color: #DDD;\n",
              "  }\n",
              "\n",
              "  [theme=dark] .colab-df-quickchart {\n",
              "      --bg-color: #3B4455;\n",
              "      --fill-color: #D2E3FC;\n",
              "      --hover-bg-color: #434B5C;\n",
              "      --hover-fill-color: #FFFFFF;\n",
              "      --disabled-bg-color: #3B4455;\n",
              "      --disabled-fill-color: #666;\n",
              "  }\n",
              "\n",
              "  .colab-df-quickchart {\n",
              "    background-color: var(--bg-color);\n",
              "    border: none;\n",
              "    border-radius: 50%;\n",
              "    cursor: pointer;\n",
              "    display: none;\n",
              "    fill: var(--fill-color);\n",
              "    height: 32px;\n",
              "    padding: 0;\n",
              "    width: 32px;\n",
              "  }\n",
              "\n",
              "  .colab-df-quickchart:hover {\n",
              "    background-color: var(--hover-bg-color);\n",
              "    box-shadow: 0 1px 2px rgba(60, 64, 67, 0.3), 0 1px 3px 1px rgba(60, 64, 67, 0.15);\n",
              "    fill: var(--button-hover-fill-color);\n",
              "  }\n",
              "\n",
              "  .colab-df-quickchart-complete:disabled,\n",
              "  .colab-df-quickchart-complete:disabled:hover {\n",
              "    background-color: var(--disabled-bg-color);\n",
              "    fill: var(--disabled-fill-color);\n",
              "    box-shadow: none;\n",
              "  }\n",
              "\n",
              "  .colab-df-spinner {\n",
              "    border: 2px solid var(--fill-color);\n",
              "    border-color: transparent;\n",
              "    border-bottom-color: var(--fill-color);\n",
              "    animation:\n",
              "      spin 1s steps(1) infinite;\n",
              "  }\n",
              "\n",
              "  @keyframes spin {\n",
              "    0% {\n",
              "      border-color: transparent;\n",
              "      border-bottom-color: var(--fill-color);\n",
              "      border-left-color: var(--fill-color);\n",
              "    }\n",
              "    20% {\n",
              "      border-color: transparent;\n",
              "      border-left-color: var(--fill-color);\n",
              "      border-top-color: var(--fill-color);\n",
              "    }\n",
              "    30% {\n",
              "      border-color: transparent;\n",
              "      border-left-color: var(--fill-color);\n",
              "      border-top-color: var(--fill-color);\n",
              "      border-right-color: var(--fill-color);\n",
              "    }\n",
              "    40% {\n",
              "      border-color: transparent;\n",
              "      border-right-color: var(--fill-color);\n",
              "      border-top-color: var(--fill-color);\n",
              "    }\n",
              "    60% {\n",
              "      border-color: transparent;\n",
              "      border-right-color: var(--fill-color);\n",
              "    }\n",
              "    80% {\n",
              "      border-color: transparent;\n",
              "      border-right-color: var(--fill-color);\n",
              "      border-bottom-color: var(--fill-color);\n",
              "    }\n",
              "    90% {\n",
              "      border-color: transparent;\n",
              "      border-bottom-color: var(--fill-color);\n",
              "    }\n",
              "  }\n",
              "</style>\n",
              "\n",
              "  <script>\n",
              "    async function quickchart(key) {\n",
              "      const quickchartButtonEl =\n",
              "        document.querySelector('#' + key + ' button');\n",
              "      quickchartButtonEl.disabled = true;  // To prevent multiple clicks.\n",
              "      quickchartButtonEl.classList.add('colab-df-spinner');\n",
              "      try {\n",
              "        const charts = await google.colab.kernel.invokeFunction(\n",
              "            'suggestCharts', [key], {});\n",
              "      } catch (error) {\n",
              "        console.error('Error during call to suggestCharts:', error);\n",
              "      }\n",
              "      quickchartButtonEl.classList.remove('colab-df-spinner');\n",
              "      quickchartButtonEl.classList.add('colab-df-quickchart-complete');\n",
              "    }\n",
              "    (() => {\n",
              "      let quickchartButtonEl =\n",
              "        document.querySelector('#df-fd5552bc-58cb-4f80-a851-217042477d39 button');\n",
              "      quickchartButtonEl.style.display =\n",
              "        google.colab.kernel.accessAllowed ? 'block' : 'none';\n",
              "    })();\n",
              "  </script>\n",
              "</div>\n",
              "\n",
              "    </div>\n",
              "  </div>\n"
            ],
            "application/vnd.google.colaboratory.intrinsic+json": {
              "type": "dataframe",
              "summary": "{\n  \"name\": \"data_024\",\n  \"rows\": 8,\n  \"fields\": [\n    {\n      \"column\": \"Tinggi Badan (cm)\",\n      \"properties\": {\n        \"dtype\": \"number\",\n        \"std\": 537564.838682734,\n        \"min\": 17.49194479166779,\n        \"max\": 1520537.0,\n        \"num_unique_values\": 8,\n        \"samples\": [\n          85.22750252049111,\n          88.0,\n          1520537.0\n        ],\n        \"semantic_type\": \"\",\n        \"description\": \"\"\n      }\n    },\n    {\n      \"column\": \"Berat Badan (kg)\",\n      \"properties\": {\n        \"dtype\": \"number\",\n        \"std\": 537586.9311488057,\n        \"min\": 1.7,\n        \"max\": 1520537.0,\n        \"num_unique_values\": 8,\n        \"samples\": [\n          12.337158550564702,\n          12.351,\n          1520537.0\n        ],\n        \"semantic_type\": \"\",\n        \"description\": \"\"\n      }\n    }\n  ]\n}"
            }
          },
          "metadata": {},
          "execution_count": 35
        }
      ],
      "source": [
        "data_024.describe()"
      ]
    },
    {
      "cell_type": "code",
      "execution_count": 36,
      "metadata": {
        "colab": {
          "base_uri": "https://localhost:8080/"
        },
        "id": "8LbnbPVmwGqu",
        "outputId": "18fe326a-a626-483b-a042-c69bbb54d4f5"
      },
      "outputs": [
        {
          "output_type": "execute_result",
          "data": {
            "text/plain": [
              "Jenis Kelamin        0\n",
              "Tinggi Badan (cm)    0\n",
              "Berat Badan (kg)     0\n",
              "Status               0\n",
              "dtype: int64"
            ]
          },
          "metadata": {},
          "execution_count": 36
        }
      ],
      "source": [
        "data_024.isnull().sum()"
      ]
    },
    {
      "cell_type": "code",
      "execution_count": 37,
      "metadata": {
        "id": "HMfuVy33BnjA"
      },
      "outputs": [],
      "source": [
        "data_024.to_csv('clean_data_ideal_024.csv', index=False)"
      ]
    },
    {
      "cell_type": "markdown",
      "metadata": {
        "id": "lxKl4h7OAJZJ"
      },
      "source": [
        "# Encode Jenis Kelamin dan Status ke number"
      ]
    },
    {
      "cell_type": "code",
      "execution_count": 38,
      "metadata": {
        "colab": {
          "base_uri": "https://localhost:8080/",
          "height": 424
        },
        "id": "uK5_I5Tc_Scd",
        "outputId": "65e3f6cf-48c6-4ade-ebd4-133219760ae0"
      },
      "outputs": [
        {
          "output_type": "execute_result",
          "data": {
            "text/plain": [
              "         Jenis Kelamin  Tinggi Badan (cm)  Berat Badan (kg)  Status\n",
              "0                    0               45.0             1.700       0\n",
              "1                    0               45.0             1.701       0\n",
              "2                    0               45.0             1.702       0\n",
              "3                    0               45.0             1.703       0\n",
              "4                    0               45.0             1.704       0\n",
              "...                ...                ...               ...     ...\n",
              "1521923              1              110.0            24.997       5\n",
              "1521924              1              110.0            24.998       5\n",
              "1521925              1              110.0            24.999       5\n",
              "1521926              1              110.0            25.000       5\n",
              "1521927              1              110.0            25.001       5\n",
              "\n",
              "[1520537 rows x 4 columns]"
            ],
            "text/html": [
              "\n",
              "  <div id=\"df-a571fd9b-6ed7-49f7-b84a-34b0fd18d35a\" class=\"colab-df-container\">\n",
              "    <div>\n",
              "<style scoped>\n",
              "    .dataframe tbody tr th:only-of-type {\n",
              "        vertical-align: middle;\n",
              "    }\n",
              "\n",
              "    .dataframe tbody tr th {\n",
              "        vertical-align: top;\n",
              "    }\n",
              "\n",
              "    .dataframe thead th {\n",
              "        text-align: right;\n",
              "    }\n",
              "</style>\n",
              "<table border=\"1\" class=\"dataframe\">\n",
              "  <thead>\n",
              "    <tr style=\"text-align: right;\">\n",
              "      <th></th>\n",
              "      <th>Jenis Kelamin</th>\n",
              "      <th>Tinggi Badan (cm)</th>\n",
              "      <th>Berat Badan (kg)</th>\n",
              "      <th>Status</th>\n",
              "    </tr>\n",
              "  </thead>\n",
              "  <tbody>\n",
              "    <tr>\n",
              "      <th>0</th>\n",
              "      <td>0</td>\n",
              "      <td>45.0</td>\n",
              "      <td>1.700</td>\n",
              "      <td>0</td>\n",
              "    </tr>\n",
              "    <tr>\n",
              "      <th>1</th>\n",
              "      <td>0</td>\n",
              "      <td>45.0</td>\n",
              "      <td>1.701</td>\n",
              "      <td>0</td>\n",
              "    </tr>\n",
              "    <tr>\n",
              "      <th>2</th>\n",
              "      <td>0</td>\n",
              "      <td>45.0</td>\n",
              "      <td>1.702</td>\n",
              "      <td>0</td>\n",
              "    </tr>\n",
              "    <tr>\n",
              "      <th>3</th>\n",
              "      <td>0</td>\n",
              "      <td>45.0</td>\n",
              "      <td>1.703</td>\n",
              "      <td>0</td>\n",
              "    </tr>\n",
              "    <tr>\n",
              "      <th>4</th>\n",
              "      <td>0</td>\n",
              "      <td>45.0</td>\n",
              "      <td>1.704</td>\n",
              "      <td>0</td>\n",
              "    </tr>\n",
              "    <tr>\n",
              "      <th>...</th>\n",
              "      <td>...</td>\n",
              "      <td>...</td>\n",
              "      <td>...</td>\n",
              "      <td>...</td>\n",
              "    </tr>\n",
              "    <tr>\n",
              "      <th>1521923</th>\n",
              "      <td>1</td>\n",
              "      <td>110.0</td>\n",
              "      <td>24.997</td>\n",
              "      <td>5</td>\n",
              "    </tr>\n",
              "    <tr>\n",
              "      <th>1521924</th>\n",
              "      <td>1</td>\n",
              "      <td>110.0</td>\n",
              "      <td>24.998</td>\n",
              "      <td>5</td>\n",
              "    </tr>\n",
              "    <tr>\n",
              "      <th>1521925</th>\n",
              "      <td>1</td>\n",
              "      <td>110.0</td>\n",
              "      <td>24.999</td>\n",
              "      <td>5</td>\n",
              "    </tr>\n",
              "    <tr>\n",
              "      <th>1521926</th>\n",
              "      <td>1</td>\n",
              "      <td>110.0</td>\n",
              "      <td>25.000</td>\n",
              "      <td>5</td>\n",
              "    </tr>\n",
              "    <tr>\n",
              "      <th>1521927</th>\n",
              "      <td>1</td>\n",
              "      <td>110.0</td>\n",
              "      <td>25.001</td>\n",
              "      <td>5</td>\n",
              "    </tr>\n",
              "  </tbody>\n",
              "</table>\n",
              "<p>1520537 rows × 4 columns</p>\n",
              "</div>\n",
              "    <div class=\"colab-df-buttons\">\n",
              "\n",
              "  <div class=\"colab-df-container\">\n",
              "    <button class=\"colab-df-convert\" onclick=\"convertToInteractive('df-a571fd9b-6ed7-49f7-b84a-34b0fd18d35a')\"\n",
              "            title=\"Convert this dataframe to an interactive table.\"\n",
              "            style=\"display:none;\">\n",
              "\n",
              "  <svg xmlns=\"http://www.w3.org/2000/svg\" height=\"24px\" viewBox=\"0 -960 960 960\">\n",
              "    <path d=\"M120-120v-720h720v720H120Zm60-500h600v-160H180v160Zm220 220h160v-160H400v160Zm0 220h160v-160H400v160ZM180-400h160v-160H180v160Zm440 0h160v-160H620v160ZM180-180h160v-160H180v160Zm440 0h160v-160H620v160Z\"/>\n",
              "  </svg>\n",
              "    </button>\n",
              "\n",
              "  <style>\n",
              "    .colab-df-container {\n",
              "      display:flex;\n",
              "      gap: 12px;\n",
              "    }\n",
              "\n",
              "    .colab-df-convert {\n",
              "      background-color: #E8F0FE;\n",
              "      border: none;\n",
              "      border-radius: 50%;\n",
              "      cursor: pointer;\n",
              "      display: none;\n",
              "      fill: #1967D2;\n",
              "      height: 32px;\n",
              "      padding: 0 0 0 0;\n",
              "      width: 32px;\n",
              "    }\n",
              "\n",
              "    .colab-df-convert:hover {\n",
              "      background-color: #E2EBFA;\n",
              "      box-shadow: 0px 1px 2px rgba(60, 64, 67, 0.3), 0px 1px 3px 1px rgba(60, 64, 67, 0.15);\n",
              "      fill: #174EA6;\n",
              "    }\n",
              "\n",
              "    .colab-df-buttons div {\n",
              "      margin-bottom: 4px;\n",
              "    }\n",
              "\n",
              "    [theme=dark] .colab-df-convert {\n",
              "      background-color: #3B4455;\n",
              "      fill: #D2E3FC;\n",
              "    }\n",
              "\n",
              "    [theme=dark] .colab-df-convert:hover {\n",
              "      background-color: #434B5C;\n",
              "      box-shadow: 0px 1px 3px 1px rgba(0, 0, 0, 0.15);\n",
              "      filter: drop-shadow(0px 1px 2px rgba(0, 0, 0, 0.3));\n",
              "      fill: #FFFFFF;\n",
              "    }\n",
              "  </style>\n",
              "\n",
              "    <script>\n",
              "      const buttonEl =\n",
              "        document.querySelector('#df-a571fd9b-6ed7-49f7-b84a-34b0fd18d35a button.colab-df-convert');\n",
              "      buttonEl.style.display =\n",
              "        google.colab.kernel.accessAllowed ? 'block' : 'none';\n",
              "\n",
              "      async function convertToInteractive(key) {\n",
              "        const element = document.querySelector('#df-a571fd9b-6ed7-49f7-b84a-34b0fd18d35a');\n",
              "        const dataTable =\n",
              "          await google.colab.kernel.invokeFunction('convertToInteractive',\n",
              "                                                    [key], {});\n",
              "        if (!dataTable) return;\n",
              "\n",
              "        const docLinkHtml = 'Like what you see? Visit the ' +\n",
              "          '<a target=\"_blank\" href=https://colab.research.google.com/notebooks/data_table.ipynb>data table notebook</a>'\n",
              "          + ' to learn more about interactive tables.';\n",
              "        element.innerHTML = '';\n",
              "        dataTable['output_type'] = 'display_data';\n",
              "        await google.colab.output.renderOutput(dataTable, element);\n",
              "        const docLink = document.createElement('div');\n",
              "        docLink.innerHTML = docLinkHtml;\n",
              "        element.appendChild(docLink);\n",
              "      }\n",
              "    </script>\n",
              "  </div>\n",
              "\n",
              "\n",
              "<div id=\"df-74926494-60e5-4f61-80d3-327e43b0072e\">\n",
              "  <button class=\"colab-df-quickchart\" onclick=\"quickchart('df-74926494-60e5-4f61-80d3-327e43b0072e')\"\n",
              "            title=\"Suggest charts\"\n",
              "            style=\"display:none;\">\n",
              "\n",
              "<svg xmlns=\"http://www.w3.org/2000/svg\" height=\"24px\"viewBox=\"0 0 24 24\"\n",
              "     width=\"24px\">\n",
              "    <g>\n",
              "        <path d=\"M19 3H5c-1.1 0-2 .9-2 2v14c0 1.1.9 2 2 2h14c1.1 0 2-.9 2-2V5c0-1.1-.9-2-2-2zM9 17H7v-7h2v7zm4 0h-2V7h2v10zm4 0h-2v-4h2v4z\"/>\n",
              "    </g>\n",
              "</svg>\n",
              "  </button>\n",
              "\n",
              "<style>\n",
              "  .colab-df-quickchart {\n",
              "      --bg-color: #E8F0FE;\n",
              "      --fill-color: #1967D2;\n",
              "      --hover-bg-color: #E2EBFA;\n",
              "      --hover-fill-color: #174EA6;\n",
              "      --disabled-fill-color: #AAA;\n",
              "      --disabled-bg-color: #DDD;\n",
              "  }\n",
              "\n",
              "  [theme=dark] .colab-df-quickchart {\n",
              "      --bg-color: #3B4455;\n",
              "      --fill-color: #D2E3FC;\n",
              "      --hover-bg-color: #434B5C;\n",
              "      --hover-fill-color: #FFFFFF;\n",
              "      --disabled-bg-color: #3B4455;\n",
              "      --disabled-fill-color: #666;\n",
              "  }\n",
              "\n",
              "  .colab-df-quickchart {\n",
              "    background-color: var(--bg-color);\n",
              "    border: none;\n",
              "    border-radius: 50%;\n",
              "    cursor: pointer;\n",
              "    display: none;\n",
              "    fill: var(--fill-color);\n",
              "    height: 32px;\n",
              "    padding: 0;\n",
              "    width: 32px;\n",
              "  }\n",
              "\n",
              "  .colab-df-quickchart:hover {\n",
              "    background-color: var(--hover-bg-color);\n",
              "    box-shadow: 0 1px 2px rgba(60, 64, 67, 0.3), 0 1px 3px 1px rgba(60, 64, 67, 0.15);\n",
              "    fill: var(--button-hover-fill-color);\n",
              "  }\n",
              "\n",
              "  .colab-df-quickchart-complete:disabled,\n",
              "  .colab-df-quickchart-complete:disabled:hover {\n",
              "    background-color: var(--disabled-bg-color);\n",
              "    fill: var(--disabled-fill-color);\n",
              "    box-shadow: none;\n",
              "  }\n",
              "\n",
              "  .colab-df-spinner {\n",
              "    border: 2px solid var(--fill-color);\n",
              "    border-color: transparent;\n",
              "    border-bottom-color: var(--fill-color);\n",
              "    animation:\n",
              "      spin 1s steps(1) infinite;\n",
              "  }\n",
              "\n",
              "  @keyframes spin {\n",
              "    0% {\n",
              "      border-color: transparent;\n",
              "      border-bottom-color: var(--fill-color);\n",
              "      border-left-color: var(--fill-color);\n",
              "    }\n",
              "    20% {\n",
              "      border-color: transparent;\n",
              "      border-left-color: var(--fill-color);\n",
              "      border-top-color: var(--fill-color);\n",
              "    }\n",
              "    30% {\n",
              "      border-color: transparent;\n",
              "      border-left-color: var(--fill-color);\n",
              "      border-top-color: var(--fill-color);\n",
              "      border-right-color: var(--fill-color);\n",
              "    }\n",
              "    40% {\n",
              "      border-color: transparent;\n",
              "      border-right-color: var(--fill-color);\n",
              "      border-top-color: var(--fill-color);\n",
              "    }\n",
              "    60% {\n",
              "      border-color: transparent;\n",
              "      border-right-color: var(--fill-color);\n",
              "    }\n",
              "    80% {\n",
              "      border-color: transparent;\n",
              "      border-right-color: var(--fill-color);\n",
              "      border-bottom-color: var(--fill-color);\n",
              "    }\n",
              "    90% {\n",
              "      border-color: transparent;\n",
              "      border-bottom-color: var(--fill-color);\n",
              "    }\n",
              "  }\n",
              "</style>\n",
              "\n",
              "  <script>\n",
              "    async function quickchart(key) {\n",
              "      const quickchartButtonEl =\n",
              "        document.querySelector('#' + key + ' button');\n",
              "      quickchartButtonEl.disabled = true;  // To prevent multiple clicks.\n",
              "      quickchartButtonEl.classList.add('colab-df-spinner');\n",
              "      try {\n",
              "        const charts = await google.colab.kernel.invokeFunction(\n",
              "            'suggestCharts', [key], {});\n",
              "      } catch (error) {\n",
              "        console.error('Error during call to suggestCharts:', error);\n",
              "      }\n",
              "      quickchartButtonEl.classList.remove('colab-df-spinner');\n",
              "      quickchartButtonEl.classList.add('colab-df-quickchart-complete');\n",
              "    }\n",
              "    (() => {\n",
              "      let quickchartButtonEl =\n",
              "        document.querySelector('#df-74926494-60e5-4f61-80d3-327e43b0072e button');\n",
              "      quickchartButtonEl.style.display =\n",
              "        google.colab.kernel.accessAllowed ? 'block' : 'none';\n",
              "    })();\n",
              "  </script>\n",
              "</div>\n",
              "\n",
              "  <div id=\"id_5aadc19d-a3b9-4f01-a4a7-242b198fa53b\">\n",
              "    <style>\n",
              "      .colab-df-generate {\n",
              "        background-color: #E8F0FE;\n",
              "        border: none;\n",
              "        border-radius: 50%;\n",
              "        cursor: pointer;\n",
              "        display: none;\n",
              "        fill: #1967D2;\n",
              "        height: 32px;\n",
              "        padding: 0 0 0 0;\n",
              "        width: 32px;\n",
              "      }\n",
              "\n",
              "      .colab-df-generate:hover {\n",
              "        background-color: #E2EBFA;\n",
              "        box-shadow: 0px 1px 2px rgba(60, 64, 67, 0.3), 0px 1px 3px 1px rgba(60, 64, 67, 0.15);\n",
              "        fill: #174EA6;\n",
              "      }\n",
              "\n",
              "      [theme=dark] .colab-df-generate {\n",
              "        background-color: #3B4455;\n",
              "        fill: #D2E3FC;\n",
              "      }\n",
              "\n",
              "      [theme=dark] .colab-df-generate:hover {\n",
              "        background-color: #434B5C;\n",
              "        box-shadow: 0px 1px 3px 1px rgba(0, 0, 0, 0.15);\n",
              "        filter: drop-shadow(0px 1px 2px rgba(0, 0, 0, 0.3));\n",
              "        fill: #FFFFFF;\n",
              "      }\n",
              "    </style>\n",
              "    <button class=\"colab-df-generate\" onclick=\"generateWithVariable('data_024')\"\n",
              "            title=\"Generate code using this dataframe.\"\n",
              "            style=\"display:none;\">\n",
              "\n",
              "  <svg xmlns=\"http://www.w3.org/2000/svg\" height=\"24px\"viewBox=\"0 0 24 24\"\n",
              "       width=\"24px\">\n",
              "    <path d=\"M7,19H8.4L18.45,9,17,7.55,7,17.6ZM5,21V16.75L18.45,3.32a2,2,0,0,1,2.83,0l1.4,1.43a1.91,1.91,0,0,1,.58,1.4,1.91,1.91,0,0,1-.58,1.4L9.25,21ZM18.45,9,17,7.55Zm-12,3A5.31,5.31,0,0,0,4.9,8.1,5.31,5.31,0,0,0,1,6.5,5.31,5.31,0,0,0,4.9,4.9,5.31,5.31,0,0,0,6.5,1,5.31,5.31,0,0,0,8.1,4.9,5.31,5.31,0,0,0,12,6.5,5.46,5.46,0,0,0,6.5,12Z\"/>\n",
              "  </svg>\n",
              "    </button>\n",
              "    <script>\n",
              "      (() => {\n",
              "      const buttonEl =\n",
              "        document.querySelector('#id_5aadc19d-a3b9-4f01-a4a7-242b198fa53b button.colab-df-generate');\n",
              "      buttonEl.style.display =\n",
              "        google.colab.kernel.accessAllowed ? 'block' : 'none';\n",
              "\n",
              "      buttonEl.onclick = () => {\n",
              "        google.colab.notebook.generateWithVariable('data_024');\n",
              "      }\n",
              "      })();\n",
              "    </script>\n",
              "  </div>\n",
              "\n",
              "    </div>\n",
              "  </div>\n"
            ],
            "application/vnd.google.colaboratory.intrinsic+json": {
              "type": "dataframe",
              "variable_name": "data_024"
            }
          },
          "metadata": {},
          "execution_count": 38
        }
      ],
      "source": [
        "data_024['Jenis Kelamin'] = data_024['Jenis Kelamin'].map({'laki-laki': 0, 'perempuan': 1})\n",
        "data_024['Status'] = data_024['Status'].map({'severely wasted': 0, 'wasted': 1, 'normal': 2, 'berisiko overweight': 3,'overweigh' : 4,'obesitas' : 5})\n",
        "\n",
        "data_024"
      ]
    },
    {
      "cell_type": "code",
      "execution_count": 39,
      "metadata": {
        "colab": {
          "base_uri": "https://localhost:8080/"
        },
        "id": "7dD5PP1Tvdqu",
        "outputId": "2c9833ce-8521-4a67-8e26-7890c6d6136b"
      },
      "outputs": [
        {
          "output_type": "execute_result",
          "data": {
            "text/plain": [
              "Jenis Kelamin        0\n",
              "Tinggi Badan (cm)    0\n",
              "Berat Badan (kg)     0\n",
              "Status               0\n",
              "dtype: int64"
            ]
          },
          "metadata": {},
          "execution_count": 39
        }
      ],
      "source": [
        "data_024.isnull().sum()"
      ]
    },
    {
      "cell_type": "markdown",
      "metadata": {
        "id": "luQSvXIuU6kX"
      },
      "source": [
        "#Split Data Train dan Label Da"
      ]
    },
    {
      "cell_type": "code",
      "execution_count": 40,
      "metadata": {
        "colab": {
          "base_uri": "https://localhost:8080/",
          "height": 424
        },
        "id": "OtitvWckDfcL",
        "outputId": "84d84538-99dd-4f3c-8d9d-7b45e005af0b"
      },
      "outputs": [
        {
          "output_type": "execute_result",
          "data": {
            "text/plain": [
              "         Jenis Kelamin  Tinggi Badan (cm)  Berat Badan (kg)\n",
              "0                    0               45.0             1.700\n",
              "1                    0               45.0             1.701\n",
              "2                    0               45.0             1.702\n",
              "3                    0               45.0             1.703\n",
              "4                    0               45.0             1.704\n",
              "...                ...                ...               ...\n",
              "1521923              1              110.0            24.997\n",
              "1521924              1              110.0            24.998\n",
              "1521925              1              110.0            24.999\n",
              "1521926              1              110.0            25.000\n",
              "1521927              1              110.0            25.001\n",
              "\n",
              "[1520537 rows x 3 columns]"
            ],
            "text/html": [
              "\n",
              "  <div id=\"df-839f4c6d-8fc2-40ec-9d0f-b09cd31bace3\" class=\"colab-df-container\">\n",
              "    <div>\n",
              "<style scoped>\n",
              "    .dataframe tbody tr th:only-of-type {\n",
              "        vertical-align: middle;\n",
              "    }\n",
              "\n",
              "    .dataframe tbody tr th {\n",
              "        vertical-align: top;\n",
              "    }\n",
              "\n",
              "    .dataframe thead th {\n",
              "        text-align: right;\n",
              "    }\n",
              "</style>\n",
              "<table border=\"1\" class=\"dataframe\">\n",
              "  <thead>\n",
              "    <tr style=\"text-align: right;\">\n",
              "      <th></th>\n",
              "      <th>Jenis Kelamin</th>\n",
              "      <th>Tinggi Badan (cm)</th>\n",
              "      <th>Berat Badan (kg)</th>\n",
              "    </tr>\n",
              "  </thead>\n",
              "  <tbody>\n",
              "    <tr>\n",
              "      <th>0</th>\n",
              "      <td>0</td>\n",
              "      <td>45.0</td>\n",
              "      <td>1.700</td>\n",
              "    </tr>\n",
              "    <tr>\n",
              "      <th>1</th>\n",
              "      <td>0</td>\n",
              "      <td>45.0</td>\n",
              "      <td>1.701</td>\n",
              "    </tr>\n",
              "    <tr>\n",
              "      <th>2</th>\n",
              "      <td>0</td>\n",
              "      <td>45.0</td>\n",
              "      <td>1.702</td>\n",
              "    </tr>\n",
              "    <tr>\n",
              "      <th>3</th>\n",
              "      <td>0</td>\n",
              "      <td>45.0</td>\n",
              "      <td>1.703</td>\n",
              "    </tr>\n",
              "    <tr>\n",
              "      <th>4</th>\n",
              "      <td>0</td>\n",
              "      <td>45.0</td>\n",
              "      <td>1.704</td>\n",
              "    </tr>\n",
              "    <tr>\n",
              "      <th>...</th>\n",
              "      <td>...</td>\n",
              "      <td>...</td>\n",
              "      <td>...</td>\n",
              "    </tr>\n",
              "    <tr>\n",
              "      <th>1521923</th>\n",
              "      <td>1</td>\n",
              "      <td>110.0</td>\n",
              "      <td>24.997</td>\n",
              "    </tr>\n",
              "    <tr>\n",
              "      <th>1521924</th>\n",
              "      <td>1</td>\n",
              "      <td>110.0</td>\n",
              "      <td>24.998</td>\n",
              "    </tr>\n",
              "    <tr>\n",
              "      <th>1521925</th>\n",
              "      <td>1</td>\n",
              "      <td>110.0</td>\n",
              "      <td>24.999</td>\n",
              "    </tr>\n",
              "    <tr>\n",
              "      <th>1521926</th>\n",
              "      <td>1</td>\n",
              "      <td>110.0</td>\n",
              "      <td>25.000</td>\n",
              "    </tr>\n",
              "    <tr>\n",
              "      <th>1521927</th>\n",
              "      <td>1</td>\n",
              "      <td>110.0</td>\n",
              "      <td>25.001</td>\n",
              "    </tr>\n",
              "  </tbody>\n",
              "</table>\n",
              "<p>1520537 rows × 3 columns</p>\n",
              "</div>\n",
              "    <div class=\"colab-df-buttons\">\n",
              "\n",
              "  <div class=\"colab-df-container\">\n",
              "    <button class=\"colab-df-convert\" onclick=\"convertToInteractive('df-839f4c6d-8fc2-40ec-9d0f-b09cd31bace3')\"\n",
              "            title=\"Convert this dataframe to an interactive table.\"\n",
              "            style=\"display:none;\">\n",
              "\n",
              "  <svg xmlns=\"http://www.w3.org/2000/svg\" height=\"24px\" viewBox=\"0 -960 960 960\">\n",
              "    <path d=\"M120-120v-720h720v720H120Zm60-500h600v-160H180v160Zm220 220h160v-160H400v160Zm0 220h160v-160H400v160ZM180-400h160v-160H180v160Zm440 0h160v-160H620v160ZM180-180h160v-160H180v160Zm440 0h160v-160H620v160Z\"/>\n",
              "  </svg>\n",
              "    </button>\n",
              "\n",
              "  <style>\n",
              "    .colab-df-container {\n",
              "      display:flex;\n",
              "      gap: 12px;\n",
              "    }\n",
              "\n",
              "    .colab-df-convert {\n",
              "      background-color: #E8F0FE;\n",
              "      border: none;\n",
              "      border-radius: 50%;\n",
              "      cursor: pointer;\n",
              "      display: none;\n",
              "      fill: #1967D2;\n",
              "      height: 32px;\n",
              "      padding: 0 0 0 0;\n",
              "      width: 32px;\n",
              "    }\n",
              "\n",
              "    .colab-df-convert:hover {\n",
              "      background-color: #E2EBFA;\n",
              "      box-shadow: 0px 1px 2px rgba(60, 64, 67, 0.3), 0px 1px 3px 1px rgba(60, 64, 67, 0.15);\n",
              "      fill: #174EA6;\n",
              "    }\n",
              "\n",
              "    .colab-df-buttons div {\n",
              "      margin-bottom: 4px;\n",
              "    }\n",
              "\n",
              "    [theme=dark] .colab-df-convert {\n",
              "      background-color: #3B4455;\n",
              "      fill: #D2E3FC;\n",
              "    }\n",
              "\n",
              "    [theme=dark] .colab-df-convert:hover {\n",
              "      background-color: #434B5C;\n",
              "      box-shadow: 0px 1px 3px 1px rgba(0, 0, 0, 0.15);\n",
              "      filter: drop-shadow(0px 1px 2px rgba(0, 0, 0, 0.3));\n",
              "      fill: #FFFFFF;\n",
              "    }\n",
              "  </style>\n",
              "\n",
              "    <script>\n",
              "      const buttonEl =\n",
              "        document.querySelector('#df-839f4c6d-8fc2-40ec-9d0f-b09cd31bace3 button.colab-df-convert');\n",
              "      buttonEl.style.display =\n",
              "        google.colab.kernel.accessAllowed ? 'block' : 'none';\n",
              "\n",
              "      async function convertToInteractive(key) {\n",
              "        const element = document.querySelector('#df-839f4c6d-8fc2-40ec-9d0f-b09cd31bace3');\n",
              "        const dataTable =\n",
              "          await google.colab.kernel.invokeFunction('convertToInteractive',\n",
              "                                                    [key], {});\n",
              "        if (!dataTable) return;\n",
              "\n",
              "        const docLinkHtml = 'Like what you see? Visit the ' +\n",
              "          '<a target=\"_blank\" href=https://colab.research.google.com/notebooks/data_table.ipynb>data table notebook</a>'\n",
              "          + ' to learn more about interactive tables.';\n",
              "        element.innerHTML = '';\n",
              "        dataTable['output_type'] = 'display_data';\n",
              "        await google.colab.output.renderOutput(dataTable, element);\n",
              "        const docLink = document.createElement('div');\n",
              "        docLink.innerHTML = docLinkHtml;\n",
              "        element.appendChild(docLink);\n",
              "      }\n",
              "    </script>\n",
              "  </div>\n",
              "\n",
              "\n",
              "<div id=\"df-0563d54f-8120-4b06-ac38-3357d50855ba\">\n",
              "  <button class=\"colab-df-quickchart\" onclick=\"quickchart('df-0563d54f-8120-4b06-ac38-3357d50855ba')\"\n",
              "            title=\"Suggest charts\"\n",
              "            style=\"display:none;\">\n",
              "\n",
              "<svg xmlns=\"http://www.w3.org/2000/svg\" height=\"24px\"viewBox=\"0 0 24 24\"\n",
              "     width=\"24px\">\n",
              "    <g>\n",
              "        <path d=\"M19 3H5c-1.1 0-2 .9-2 2v14c0 1.1.9 2 2 2h14c1.1 0 2-.9 2-2V5c0-1.1-.9-2-2-2zM9 17H7v-7h2v7zm4 0h-2V7h2v10zm4 0h-2v-4h2v4z\"/>\n",
              "    </g>\n",
              "</svg>\n",
              "  </button>\n",
              "\n",
              "<style>\n",
              "  .colab-df-quickchart {\n",
              "      --bg-color: #E8F0FE;\n",
              "      --fill-color: #1967D2;\n",
              "      --hover-bg-color: #E2EBFA;\n",
              "      --hover-fill-color: #174EA6;\n",
              "      --disabled-fill-color: #AAA;\n",
              "      --disabled-bg-color: #DDD;\n",
              "  }\n",
              "\n",
              "  [theme=dark] .colab-df-quickchart {\n",
              "      --bg-color: #3B4455;\n",
              "      --fill-color: #D2E3FC;\n",
              "      --hover-bg-color: #434B5C;\n",
              "      --hover-fill-color: #FFFFFF;\n",
              "      --disabled-bg-color: #3B4455;\n",
              "      --disabled-fill-color: #666;\n",
              "  }\n",
              "\n",
              "  .colab-df-quickchart {\n",
              "    background-color: var(--bg-color);\n",
              "    border: none;\n",
              "    border-radius: 50%;\n",
              "    cursor: pointer;\n",
              "    display: none;\n",
              "    fill: var(--fill-color);\n",
              "    height: 32px;\n",
              "    padding: 0;\n",
              "    width: 32px;\n",
              "  }\n",
              "\n",
              "  .colab-df-quickchart:hover {\n",
              "    background-color: var(--hover-bg-color);\n",
              "    box-shadow: 0 1px 2px rgba(60, 64, 67, 0.3), 0 1px 3px 1px rgba(60, 64, 67, 0.15);\n",
              "    fill: var(--button-hover-fill-color);\n",
              "  }\n",
              "\n",
              "  .colab-df-quickchart-complete:disabled,\n",
              "  .colab-df-quickchart-complete:disabled:hover {\n",
              "    background-color: var(--disabled-bg-color);\n",
              "    fill: var(--disabled-fill-color);\n",
              "    box-shadow: none;\n",
              "  }\n",
              "\n",
              "  .colab-df-spinner {\n",
              "    border: 2px solid var(--fill-color);\n",
              "    border-color: transparent;\n",
              "    border-bottom-color: var(--fill-color);\n",
              "    animation:\n",
              "      spin 1s steps(1) infinite;\n",
              "  }\n",
              "\n",
              "  @keyframes spin {\n",
              "    0% {\n",
              "      border-color: transparent;\n",
              "      border-bottom-color: var(--fill-color);\n",
              "      border-left-color: var(--fill-color);\n",
              "    }\n",
              "    20% {\n",
              "      border-color: transparent;\n",
              "      border-left-color: var(--fill-color);\n",
              "      border-top-color: var(--fill-color);\n",
              "    }\n",
              "    30% {\n",
              "      border-color: transparent;\n",
              "      border-left-color: var(--fill-color);\n",
              "      border-top-color: var(--fill-color);\n",
              "      border-right-color: var(--fill-color);\n",
              "    }\n",
              "    40% {\n",
              "      border-color: transparent;\n",
              "      border-right-color: var(--fill-color);\n",
              "      border-top-color: var(--fill-color);\n",
              "    }\n",
              "    60% {\n",
              "      border-color: transparent;\n",
              "      border-right-color: var(--fill-color);\n",
              "    }\n",
              "    80% {\n",
              "      border-color: transparent;\n",
              "      border-right-color: var(--fill-color);\n",
              "      border-bottom-color: var(--fill-color);\n",
              "    }\n",
              "    90% {\n",
              "      border-color: transparent;\n",
              "      border-bottom-color: var(--fill-color);\n",
              "    }\n",
              "  }\n",
              "</style>\n",
              "\n",
              "  <script>\n",
              "    async function quickchart(key) {\n",
              "      const quickchartButtonEl =\n",
              "        document.querySelector('#' + key + ' button');\n",
              "      quickchartButtonEl.disabled = true;  // To prevent multiple clicks.\n",
              "      quickchartButtonEl.classList.add('colab-df-spinner');\n",
              "      try {\n",
              "        const charts = await google.colab.kernel.invokeFunction(\n",
              "            'suggestCharts', [key], {});\n",
              "      } catch (error) {\n",
              "        console.error('Error during call to suggestCharts:', error);\n",
              "      }\n",
              "      quickchartButtonEl.classList.remove('colab-df-spinner');\n",
              "      quickchartButtonEl.classList.add('colab-df-quickchart-complete');\n",
              "    }\n",
              "    (() => {\n",
              "      let quickchartButtonEl =\n",
              "        document.querySelector('#df-0563d54f-8120-4b06-ac38-3357d50855ba button');\n",
              "      quickchartButtonEl.style.display =\n",
              "        google.colab.kernel.accessAllowed ? 'block' : 'none';\n",
              "    })();\n",
              "  </script>\n",
              "</div>\n",
              "\n",
              "  <div id=\"id_3e52e899-fa97-48f5-a0db-7be0043942bd\">\n",
              "    <style>\n",
              "      .colab-df-generate {\n",
              "        background-color: #E8F0FE;\n",
              "        border: none;\n",
              "        border-radius: 50%;\n",
              "        cursor: pointer;\n",
              "        display: none;\n",
              "        fill: #1967D2;\n",
              "        height: 32px;\n",
              "        padding: 0 0 0 0;\n",
              "        width: 32px;\n",
              "      }\n",
              "\n",
              "      .colab-df-generate:hover {\n",
              "        background-color: #E2EBFA;\n",
              "        box-shadow: 0px 1px 2px rgba(60, 64, 67, 0.3), 0px 1px 3px 1px rgba(60, 64, 67, 0.15);\n",
              "        fill: #174EA6;\n",
              "      }\n",
              "\n",
              "      [theme=dark] .colab-df-generate {\n",
              "        background-color: #3B4455;\n",
              "        fill: #D2E3FC;\n",
              "      }\n",
              "\n",
              "      [theme=dark] .colab-df-generate:hover {\n",
              "        background-color: #434B5C;\n",
              "        box-shadow: 0px 1px 3px 1px rgba(0, 0, 0, 0.15);\n",
              "        filter: drop-shadow(0px 1px 2px rgba(0, 0, 0, 0.3));\n",
              "        fill: #FFFFFF;\n",
              "      }\n",
              "    </style>\n",
              "    <button class=\"colab-df-generate\" onclick=\"generateWithVariable('dt_train_024')\"\n",
              "            title=\"Generate code using this dataframe.\"\n",
              "            style=\"display:none;\">\n",
              "\n",
              "  <svg xmlns=\"http://www.w3.org/2000/svg\" height=\"24px\"viewBox=\"0 0 24 24\"\n",
              "       width=\"24px\">\n",
              "    <path d=\"M7,19H8.4L18.45,9,17,7.55,7,17.6ZM5,21V16.75L18.45,3.32a2,2,0,0,1,2.83,0l1.4,1.43a1.91,1.91,0,0,1,.58,1.4,1.91,1.91,0,0,1-.58,1.4L9.25,21ZM18.45,9,17,7.55Zm-12,3A5.31,5.31,0,0,0,4.9,8.1,5.31,5.31,0,0,0,1,6.5,5.31,5.31,0,0,0,4.9,4.9,5.31,5.31,0,0,0,6.5,1,5.31,5.31,0,0,0,8.1,4.9,5.31,5.31,0,0,0,12,6.5,5.46,5.46,0,0,0,6.5,12Z\"/>\n",
              "  </svg>\n",
              "    </button>\n",
              "    <script>\n",
              "      (() => {\n",
              "      const buttonEl =\n",
              "        document.querySelector('#id_3e52e899-fa97-48f5-a0db-7be0043942bd button.colab-df-generate');\n",
              "      buttonEl.style.display =\n",
              "        google.colab.kernel.accessAllowed ? 'block' : 'none';\n",
              "\n",
              "      buttonEl.onclick = () => {\n",
              "        google.colab.notebook.generateWithVariable('dt_train_024');\n",
              "      }\n",
              "      })();\n",
              "    </script>\n",
              "  </div>\n",
              "\n",
              "    </div>\n",
              "  </div>\n"
            ],
            "application/vnd.google.colaboratory.intrinsic+json": {
              "type": "dataframe",
              "variable_name": "dt_train_024"
            }
          },
          "metadata": {},
          "execution_count": 40
        }
      ],
      "source": [
        "dt_train_024=data_024.drop('Status', axis=1)\n",
        "\n",
        "dt_train_024"
      ]
    },
    {
      "cell_type": "code",
      "execution_count": 41,
      "metadata": {
        "colab": {
          "base_uri": "https://localhost:8080/"
        },
        "id": "7UL1VnR_R0xU",
        "outputId": "d148b016-b797-437f-b07c-5ba8e7ee4ce9"
      },
      "outputs": [
        {
          "output_type": "execute_result",
          "data": {
            "text/plain": [
              "0          0\n",
              "1          0\n",
              "2          0\n",
              "3          0\n",
              "4          0\n",
              "          ..\n",
              "1521923    5\n",
              "1521924    5\n",
              "1521925    5\n",
              "1521926    5\n",
              "1521927    5\n",
              "Name: Status, Length: 1520537, dtype: int64"
            ]
          },
          "metadata": {},
          "execution_count": 41
        }
      ],
      "source": [
        "label_train_024 = data_024['Status']\n",
        "\n",
        "label_train_024"
      ]
    },
    {
      "cell_type": "code",
      "execution_count": 42,
      "metadata": {
        "id": "_iPxxPKyBBfI"
      },
      "outputs": [],
      "source": [
        "X_train, X_val, y_train, y_val = train_test_split(dt_train_024, label_train_024, test_size=0.2, stratify=label_train_024, random_state=42)"
      ]
    },
    {
      "cell_type": "markdown",
      "metadata": {
        "id": "Qi6Lp_3bU1wb"
      },
      "source": [
        "#Callbacks\n"
      ]
    },
    {
      "cell_type": "code",
      "execution_count": 43,
      "metadata": {
        "id": "2rBOwPTDeIpK"
      },
      "outputs": [],
      "source": [
        "def lr_scheduler(epoch):\n",
        "    # Menghitung kecepatan pembelajaran berdasarkan epoch\n",
        "    return 0.001 * np.exp(-0.1 * epoch)\n",
        "\n",
        "lr_callback = tf.keras.callbacks.LearningRateScheduler(lr_scheduler)\n",
        "\n",
        "callback = tf.keras.callbacks.EarlyStopping(\n",
        "    monitor='accuracy',\n",
        "    patience=10,\n",
        "    restore_best_weights=True\n",
        "    )"
      ]
    },
    {
      "cell_type": "code",
      "execution_count": 45,
      "metadata": {
        "colab": {
          "base_uri": "https://localhost:8080/"
        },
        "id": "0NbZ_T6MLiDI",
        "outputId": "bf98f155-0024-4820-bce4-6fccea19710f"
      },
      "outputs": [
        {
          "output_type": "stream",
          "name": "stdout",
          "text": [
            "Epoch 1/100\n",
            "38014/38014 [==============================] - 117s 3ms/step - loss: 0.4030 - accuracy: 0.8414 - val_loss: 0.2248 - val_accuracy: 0.9159 - lr: 0.0010\n",
            "Epoch 2/100\n",
            "38014/38014 [==============================] - 114s 3ms/step - loss: 0.2360 - accuracy: 0.9071 - val_loss: 0.3239 - val_accuracy: 0.8638 - lr: 9.0484e-04\n",
            "Epoch 3/100\n",
            "38014/38014 [==============================] - 126s 3ms/step - loss: 0.2022 - accuracy: 0.9197 - val_loss: 0.1728 - val_accuracy: 0.9279 - lr: 8.1873e-04\n",
            "Epoch 4/100\n",
            "38014/38014 [==============================] - 121s 3ms/step - loss: 0.1844 - accuracy: 0.9266 - val_loss: 0.2121 - val_accuracy: 0.9073 - lr: 7.4082e-04\n",
            "Epoch 5/100\n",
            "38014/38014 [==============================] - 117s 3ms/step - loss: 0.1707 - accuracy: 0.9321 - val_loss: 0.1551 - val_accuracy: 0.9379 - lr: 6.7032e-04\n",
            "Epoch 6/100\n",
            "38014/38014 [==============================] - 110s 3ms/step - loss: 0.1594 - accuracy: 0.9362 - val_loss: 0.2006 - val_accuracy: 0.9149 - lr: 6.0653e-04\n",
            "Epoch 7/100\n",
            "38014/38014 [==============================] - 126s 3ms/step - loss: 0.1503 - accuracy: 0.9402 - val_loss: 0.1374 - val_accuracy: 0.9439 - lr: 5.4881e-04\n",
            "Epoch 8/100\n",
            "38014/38014 [==============================] - 124s 3ms/step - loss: 0.1410 - accuracy: 0.9434 - val_loss: 0.1393 - val_accuracy: 0.9439 - lr: 4.9659e-04\n",
            "Epoch 9/100\n",
            "38014/38014 [==============================] - 113s 3ms/step - loss: 0.1362 - accuracy: 0.9452 - val_loss: 0.1248 - val_accuracy: 0.9495 - lr: 4.4933e-04\n",
            "Epoch 10/100\n",
            "38014/38014 [==============================] - 117s 3ms/step - loss: 0.1291 - accuracy: 0.9481 - val_loss: 0.1285 - val_accuracy: 0.9462 - lr: 4.0657e-04\n",
            "Epoch 11/100\n",
            "38014/38014 [==============================] - 118s 3ms/step - loss: 0.1246 - accuracy: 0.9495 - val_loss: 0.1137 - val_accuracy: 0.9570 - lr: 3.6788e-04\n",
            "Epoch 12/100\n",
            "38014/38014 [==============================] - 106s 3ms/step - loss: 0.1196 - accuracy: 0.9517 - val_loss: 0.1131 - val_accuracy: 0.9541 - lr: 3.3287e-04\n",
            "Epoch 13/100\n",
            "38014/38014 [==============================] - 116s 3ms/step - loss: 0.1159 - accuracy: 0.9534 - val_loss: 0.1035 - val_accuracy: 0.9568 - lr: 3.0119e-04\n",
            "Epoch 14/100\n",
            "38014/38014 [==============================] - 106s 3ms/step - loss: 0.1119 - accuracy: 0.9547 - val_loss: 0.1075 - val_accuracy: 0.9560 - lr: 2.7253e-04\n",
            "Epoch 15/100\n",
            "38014/38014 [==============================] - 113s 3ms/step - loss: 0.1088 - accuracy: 0.9562 - val_loss: 0.0996 - val_accuracy: 0.9600 - lr: 2.4660e-04\n",
            "Epoch 16/100\n",
            "38014/38014 [==============================] - 114s 3ms/step - loss: 0.1054 - accuracy: 0.9576 - val_loss: 0.1726 - val_accuracy: 0.9317 - lr: 2.2313e-04\n",
            "Epoch 17/100\n",
            "38014/38014 [==============================] - 104s 3ms/step - loss: 0.1030 - accuracy: 0.9585 - val_loss: 0.0978 - val_accuracy: 0.9604 - lr: 2.0190e-04\n",
            "Epoch 18/100\n",
            "38014/38014 [==============================] - 114s 3ms/step - loss: 0.0996 - accuracy: 0.9598 - val_loss: 0.1581 - val_accuracy: 0.9327 - lr: 1.8268e-04\n",
            "Epoch 19/100\n",
            "38014/38014 [==============================] - 112s 3ms/step - loss: 0.0977 - accuracy: 0.9606 - val_loss: 0.1818 - val_accuracy: 0.9284 - lr: 1.6530e-04\n",
            "Epoch 20/100\n",
            "38014/38014 [==============================] - 107s 3ms/step - loss: 0.0953 - accuracy: 0.9616 - val_loss: 0.0886 - val_accuracy: 0.9650 - lr: 1.4957e-04\n",
            "Epoch 21/100\n",
            "38014/38014 [==============================] - 105s 3ms/step - loss: 0.0937 - accuracy: 0.9622 - val_loss: 0.0855 - val_accuracy: 0.9677 - lr: 1.3534e-04\n",
            "Epoch 22/100\n",
            "38014/38014 [==============================] - 107s 3ms/step - loss: 0.0918 - accuracy: 0.9629 - val_loss: 0.1357 - val_accuracy: 0.9435 - lr: 1.2246e-04\n",
            "Epoch 23/100\n",
            "38014/38014 [==============================] - 105s 3ms/step - loss: 0.0896 - accuracy: 0.9639 - val_loss: 0.1024 - val_accuracy: 0.9565 - lr: 1.1080e-04\n",
            "Epoch 24/100\n",
            "38014/38014 [==============================] - 105s 3ms/step - loss: 0.0887 - accuracy: 0.9643 - val_loss: 0.0867 - val_accuracy: 0.9656 - lr: 1.0026e-04\n",
            "Epoch 25/100\n",
            "38014/38014 [==============================] - 115s 3ms/step - loss: 0.0872 - accuracy: 0.9649 - val_loss: 0.0816 - val_accuracy: 0.9687 - lr: 9.0718e-05\n",
            "Epoch 26/100\n",
            "38014/38014 [==============================] - 107s 3ms/step - loss: 0.0861 - accuracy: 0.9655 - val_loss: 0.0858 - val_accuracy: 0.9662 - lr: 8.2085e-05\n",
            "Epoch 27/100\n",
            "38014/38014 [==============================] - 108s 3ms/step - loss: 0.0847 - accuracy: 0.9660 - val_loss: 0.0855 - val_accuracy: 0.9652 - lr: 7.4274e-05\n",
            "Epoch 28/100\n",
            "38014/38014 [==============================] - 108s 3ms/step - loss: 0.0839 - accuracy: 0.9665 - val_loss: 0.0800 - val_accuracy: 0.9692 - lr: 6.7206e-05\n",
            "Epoch 29/100\n",
            "38014/38014 [==============================] - 108s 3ms/step - loss: 0.0830 - accuracy: 0.9670 - val_loss: 0.0811 - val_accuracy: 0.9686 - lr: 6.0810e-05\n",
            "Epoch 30/100\n",
            "38014/38014 [==============================] - 104s 3ms/step - loss: 0.0823 - accuracy: 0.9672 - val_loss: 0.0791 - val_accuracy: 0.9692 - lr: 5.5023e-05\n",
            "Epoch 31/100\n",
            "38014/38014 [==============================] - 106s 3ms/step - loss: 0.0814 - accuracy: 0.9676 - val_loss: 0.0799 - val_accuracy: 0.9684 - lr: 4.9787e-05\n",
            "Epoch 32/100\n",
            "38014/38014 [==============================] - 113s 3ms/step - loss: 0.0808 - accuracy: 0.9679 - val_loss: 0.0798 - val_accuracy: 0.9689 - lr: 4.5049e-05\n",
            "Epoch 33/100\n",
            "38014/38014 [==============================] - 118s 3ms/step - loss: 0.0801 - accuracy: 0.9682 - val_loss: 0.0850 - val_accuracy: 0.9652 - lr: 4.0762e-05\n",
            "Epoch 34/100\n",
            "38014/38014 [==============================] - 113s 3ms/step - loss: 0.0795 - accuracy: 0.9687 - val_loss: 0.0815 - val_accuracy: 0.9671 - lr: 3.6883e-05\n",
            "Epoch 35/100\n",
            "38014/38014 [==============================] - 110s 3ms/step - loss: 0.0790 - accuracy: 0.9688 - val_loss: 0.0850 - val_accuracy: 0.9652 - lr: 3.3373e-05\n",
            "Epoch 36/100\n",
            "38014/38014 [==============================] - 116s 3ms/step - loss: 0.0785 - accuracy: 0.9691 - val_loss: 0.0774 - val_accuracy: 0.9699 - lr: 3.0197e-05\n",
            "Epoch 37/100\n",
            "38014/38014 [==============================] - 108s 3ms/step - loss: 0.0780 - accuracy: 0.9693 - val_loss: 0.0775 - val_accuracy: 0.9699 - lr: 2.7324e-05\n",
            "Epoch 38/100\n",
            "38014/38014 [==============================] - 123s 3ms/step - loss: 0.0777 - accuracy: 0.9694 - val_loss: 0.0773 - val_accuracy: 0.9699 - lr: 2.4724e-05\n",
            "Epoch 39/100\n",
            "38014/38014 [==============================] - 121s 3ms/step - loss: 0.0774 - accuracy: 0.9696 - val_loss: 0.0816 - val_accuracy: 0.9669 - lr: 2.2371e-05\n",
            "Epoch 40/100\n",
            "38014/38014 [==============================] - 118s 3ms/step - loss: 0.0770 - accuracy: 0.9697 - val_loss: 0.0772 - val_accuracy: 0.9699 - lr: 2.0242e-05\n",
            "Epoch 41/100\n",
            "38014/38014 [==============================] - 122s 3ms/step - loss: 0.0768 - accuracy: 0.9698 - val_loss: 0.0768 - val_accuracy: 0.9703 - lr: 1.8316e-05\n",
            "Epoch 42/100\n",
            "38014/38014 [==============================] - 113s 3ms/step - loss: 0.0765 - accuracy: 0.9699 - val_loss: 0.0766 - val_accuracy: 0.9703 - lr: 1.6573e-05\n",
            "Epoch 43/100\n",
            "38014/38014 [==============================] - 115s 3ms/step - loss: 0.0763 - accuracy: 0.9701 - val_loss: 0.0785 - val_accuracy: 0.9695 - lr: 1.4996e-05\n",
            "Epoch 44/100\n",
            "38014/38014 [==============================] - 121s 3ms/step - loss: 0.0761 - accuracy: 0.9702 - val_loss: 0.0769 - val_accuracy: 0.9696 - lr: 1.3569e-05\n",
            "Epoch 45/100\n",
            "38014/38014 [==============================] - 108s 3ms/step - loss: 0.0759 - accuracy: 0.9702 - val_loss: 0.0762 - val_accuracy: 0.9703 - lr: 1.2277e-05\n",
            "Epoch 46/100\n",
            "38014/38014 [==============================] - 107s 3ms/step - loss: 0.0757 - accuracy: 0.9704 - val_loss: 0.0769 - val_accuracy: 0.9697 - lr: 1.1109e-05\n",
            "Epoch 47/100\n",
            "38014/38014 [==============================] - 105s 3ms/step - loss: 0.0755 - accuracy: 0.9705 - val_loss: 0.0762 - val_accuracy: 0.9704 - lr: 1.0052e-05\n",
            "Epoch 48/100\n",
            "38014/38014 [==============================] - 105s 3ms/step - loss: 0.0754 - accuracy: 0.9706 - val_loss: 0.0762 - val_accuracy: 0.9703 - lr: 9.0953e-06\n",
            "Epoch 49/100\n",
            "38014/38014 [==============================] - 115s 3ms/step - loss: 0.0753 - accuracy: 0.9707 - val_loss: 0.0782 - val_accuracy: 0.9686 - lr: 8.2297e-06\n",
            "Epoch 50/100\n",
            "38014/38014 [==============================] - 105s 3ms/step - loss: 0.0752 - accuracy: 0.9707 - val_loss: 0.0763 - val_accuracy: 0.9699 - lr: 7.4466e-06\n",
            "Epoch 51/100\n",
            "38014/38014 [==============================] - 107s 3ms/step - loss: 0.0750 - accuracy: 0.9707 - val_loss: 0.0771 - val_accuracy: 0.9695 - lr: 6.7379e-06\n",
            "Epoch 52/100\n",
            "38014/38014 [==============================] - 112s 3ms/step - loss: 0.0750 - accuracy: 0.9708 - val_loss: 0.0758 - val_accuracy: 0.9704 - lr: 6.0967e-06\n",
            "Epoch 53/100\n",
            "38014/38014 [==============================] - 118s 3ms/step - loss: 0.0749 - accuracy: 0.9709 - val_loss: 0.0756 - val_accuracy: 0.9707 - lr: 5.5166e-06\n",
            "Epoch 54/100\n",
            "38014/38014 [==============================] - 113s 3ms/step - loss: 0.0748 - accuracy: 0.9709 - val_loss: 0.0757 - val_accuracy: 0.9706 - lr: 4.9916e-06\n",
            "Epoch 55/100\n",
            "38014/38014 [==============================] - 112s 3ms/step - loss: 0.0747 - accuracy: 0.9709 - val_loss: 0.0755 - val_accuracy: 0.9708 - lr: 4.5166e-06\n",
            "Epoch 56/100\n",
            "38014/38014 [==============================] - 113s 3ms/step - loss: 0.0746 - accuracy: 0.9710 - val_loss: 0.0755 - val_accuracy: 0.9707 - lr: 4.0868e-06\n",
            "Epoch 57/100\n",
            "38014/38014 [==============================] - 113s 3ms/step - loss: 0.0746 - accuracy: 0.9710 - val_loss: 0.0756 - val_accuracy: 0.9707 - lr: 3.6979e-06\n",
            "Epoch 58/100\n",
            "38014/38014 [==============================] - 108s 3ms/step - loss: 0.0745 - accuracy: 0.9711 - val_loss: 0.0766 - val_accuracy: 0.9701 - lr: 3.3460e-06\n",
            "Epoch 59/100\n",
            "38014/38014 [==============================] - 108s 3ms/step - loss: 0.0745 - accuracy: 0.9711 - val_loss: 0.0754 - val_accuracy: 0.9708 - lr: 3.0276e-06\n",
            "Epoch 60/100\n",
            "38014/38014 [==============================] - 117s 3ms/step - loss: 0.0745 - accuracy: 0.9711 - val_loss: 0.0754 - val_accuracy: 0.9708 - lr: 2.7394e-06\n",
            "Epoch 61/100\n",
            "38014/38014 [==============================] - 109s 3ms/step - loss: 0.0744 - accuracy: 0.9711 - val_loss: 0.0756 - val_accuracy: 0.9706 - lr: 2.4788e-06\n",
            "Epoch 62/100\n",
            "38014/38014 [==============================] - 114s 3ms/step - loss: 0.0744 - accuracy: 0.9711 - val_loss: 0.0755 - val_accuracy: 0.9708 - lr: 2.2429e-06\n",
            "Epoch 63/100\n",
            "38014/38014 [==============================] - 115s 3ms/step - loss: 0.0743 - accuracy: 0.9712 - val_loss: 0.0755 - val_accuracy: 0.9706 - lr: 2.0294e-06\n",
            "Epoch 64/100\n",
            "38014/38014 [==============================] - 110s 3ms/step - loss: 0.0743 - accuracy: 0.9711 - val_loss: 0.0754 - val_accuracy: 0.9708 - lr: 1.8363e-06\n",
            "Epoch 65/100\n",
            "38014/38014 [==============================] - 107s 3ms/step - loss: 0.0743 - accuracy: 0.9712 - val_loss: 0.0755 - val_accuracy: 0.9707 - lr: 1.6616e-06\n",
            "Epoch 66/100\n",
            "38014/38014 [==============================] - 109s 3ms/step - loss: 0.0743 - accuracy: 0.9712 - val_loss: 0.0754 - val_accuracy: 0.9708 - lr: 1.5034e-06\n",
            "Epoch 67/100\n",
            "38014/38014 [==============================] - 118s 3ms/step - loss: 0.0742 - accuracy: 0.9712 - val_loss: 0.0753 - val_accuracy: 0.9708 - lr: 1.3604e-06\n",
            "Epoch 68/100\n",
            "38014/38014 [==============================] - 110s 3ms/step - loss: 0.0742 - accuracy: 0.9712 - val_loss: 0.0753 - val_accuracy: 0.9708 - lr: 1.2309e-06\n",
            "Epoch 69/100\n",
            "38014/38014 [==============================] - 121s 3ms/step - loss: 0.0742 - accuracy: 0.9712 - val_loss: 0.0755 - val_accuracy: 0.9707 - lr: 1.1138e-06\n",
            "Epoch 70/100\n",
            "38014/38014 [==============================] - 120s 3ms/step - loss: 0.0742 - accuracy: 0.9712 - val_loss: 0.0753 - val_accuracy: 0.9709 - lr: 1.0078e-06\n",
            "Epoch 71/100\n",
            "38014/38014 [==============================] - 122s 3ms/step - loss: 0.0742 - accuracy: 0.9712 - val_loss: 0.0754 - val_accuracy: 0.9708 - lr: 9.1188e-07\n",
            "Epoch 72/100\n",
            "38014/38014 [==============================] - 109s 3ms/step - loss: 0.0742 - accuracy: 0.9712 - val_loss: 0.0752 - val_accuracy: 0.9709 - lr: 8.2510e-07\n",
            "Epoch 73/100\n",
            "38014/38014 [==============================] - 114s 3ms/step - loss: 0.0741 - accuracy: 0.9713 - val_loss: 0.0753 - val_accuracy: 0.9709 - lr: 7.4659e-07\n",
            "Epoch 74/100\n",
            "38014/38014 [==============================] - 119s 3ms/step - loss: 0.0741 - accuracy: 0.9713 - val_loss: 0.0753 - val_accuracy: 0.9708 - lr: 6.7554e-07\n",
            "Epoch 75/100\n",
            "38014/38014 [==============================] - 120s 3ms/step - loss: 0.0741 - accuracy: 0.9713 - val_loss: 0.0752 - val_accuracy: 0.9709 - lr: 6.1125e-07\n",
            "Epoch 76/100\n",
            "38014/38014 [==============================] - 122s 3ms/step - loss: 0.0741 - accuracy: 0.9713 - val_loss: 0.0753 - val_accuracy: 0.9708 - lr: 5.5308e-07\n",
            "Epoch 77/100\n",
            "38014/38014 [==============================] - 123s 3ms/step - loss: 0.0741 - accuracy: 0.9713 - val_loss: 0.0752 - val_accuracy: 0.9710 - lr: 5.0045e-07\n",
            "Epoch 78/100\n",
            "38014/38014 [==============================] - 111s 3ms/step - loss: 0.0741 - accuracy: 0.9713 - val_loss: 0.0754 - val_accuracy: 0.9707 - lr: 4.5283e-07\n",
            "Epoch 79/100\n",
            "38014/38014 [==============================] - 115s 3ms/step - loss: 0.0741 - accuracy: 0.9713 - val_loss: 0.0752 - val_accuracy: 0.9709 - lr: 4.0973e-07\n",
            "Epoch 80/100\n",
            "38014/38014 [==============================] - 109s 3ms/step - loss: 0.0741 - accuracy: 0.9713 - val_loss: 0.0752 - val_accuracy: 0.9708 - lr: 3.7074e-07\n",
            "Epoch 81/100\n",
            "38014/38014 [==============================] - 111s 3ms/step - loss: 0.0741 - accuracy: 0.9713 - val_loss: 0.0752 - val_accuracy: 0.9708 - lr: 3.3546e-07\n",
            "Epoch 82/100\n",
            "38014/38014 [==============================] - 111s 3ms/step - loss: 0.0741 - accuracy: 0.9713 - val_loss: 0.0752 - val_accuracy: 0.9709 - lr: 3.0354e-07\n",
            "Epoch 83/100\n",
            "38014/38014 [==============================] - 116s 3ms/step - loss: 0.0741 - accuracy: 0.9713 - val_loss: 0.0752 - val_accuracy: 0.9709 - lr: 2.7465e-07\n",
            "Epoch 84/100\n",
            "38014/38014 [==============================] - 119s 3ms/step - loss: 0.0741 - accuracy: 0.9713 - val_loss: 0.0752 - val_accuracy: 0.9709 - lr: 2.4852e-07\n",
            "Epoch 85/100\n",
            "38014/38014 [==============================] - 114s 3ms/step - loss: 0.0741 - accuracy: 0.9713 - val_loss: 0.0752 - val_accuracy: 0.9709 - lr: 2.2487e-07\n",
            "Epoch 86/100\n",
            "38014/38014 [==============================] - 110s 3ms/step - loss: 0.0741 - accuracy: 0.9714 - val_loss: 0.0752 - val_accuracy: 0.9708 - lr: 2.0347e-07\n",
            "Epoch 87/100\n",
            "38014/38014 [==============================] - 118s 3ms/step - loss: 0.0741 - accuracy: 0.9713 - val_loss: 0.0752 - val_accuracy: 0.9709 - lr: 1.8411e-07\n",
            "Epoch 88/100\n",
            "38014/38014 [==============================] - 113s 3ms/step - loss: 0.0741 - accuracy: 0.9714 - val_loss: 0.0752 - val_accuracy: 0.9709 - lr: 1.6659e-07\n",
            "Epoch 89/100\n",
            "38014/38014 [==============================] - 110s 3ms/step - loss: 0.0741 - accuracy: 0.9714 - val_loss: 0.0752 - val_accuracy: 0.9709 - lr: 1.5073e-07\n",
            "Epoch 90/100\n",
            "38014/38014 [==============================] - 124s 3ms/step - loss: 0.0740 - accuracy: 0.9714 - val_loss: 0.0752 - val_accuracy: 0.9709 - lr: 1.3639e-07\n",
            "Epoch 91/100\n",
            "38014/38014 [==============================] - 121s 3ms/step - loss: 0.0740 - accuracy: 0.9713 - val_loss: 0.0752 - val_accuracy: 0.9709 - lr: 1.2341e-07\n",
            "Epoch 92/100\n",
            "38014/38014 [==============================] - 121s 3ms/step - loss: 0.0740 - accuracy: 0.9713 - val_loss: 0.0752 - val_accuracy: 0.9709 - lr: 1.1167e-07\n",
            "Epoch 93/100\n",
            "38014/38014 [==============================] - 120s 3ms/step - loss: 0.0740 - accuracy: 0.9713 - val_loss: 0.0752 - val_accuracy: 0.9710 - lr: 1.0104e-07\n",
            "Epoch 94/100\n",
            "38014/38014 [==============================] - 115s 3ms/step - loss: 0.0740 - accuracy: 0.9713 - val_loss: 0.0752 - val_accuracy: 0.9709 - lr: 9.1424e-08\n",
            "Epoch 95/100\n",
            "38014/38014 [==============================] - 117s 3ms/step - loss: 0.0740 - accuracy: 0.9713 - val_loss: 0.0752 - val_accuracy: 0.9709 - lr: 8.2724e-08\n",
            "Epoch 96/100\n",
            "38014/38014 [==============================] - 119s 3ms/step - loss: 0.0740 - accuracy: 0.9714 - val_loss: 0.0752 - val_accuracy: 0.9709 - lr: 7.4852e-08\n",
            "Epoch 97/100\n",
            "38014/38014 [==============================] - 117s 3ms/step - loss: 0.0740 - accuracy: 0.9713 - val_loss: 0.0752 - val_accuracy: 0.9709 - lr: 6.7729e-08\n",
            "Epoch 98/100\n",
            "38014/38014 [==============================] - 121s 3ms/step - loss: 0.0740 - accuracy: 0.9714 - val_loss: 0.0752 - val_accuracy: 0.9709 - lr: 6.1283e-08\n",
            "Epoch 99/100\n",
            "38014/38014 [==============================] - 119s 3ms/step - loss: 0.0740 - accuracy: 0.9713 - val_loss: 0.0752 - val_accuracy: 0.9709 - lr: 5.5452e-08\n",
            "Epoch 100/100\n",
            "38014/38014 [==============================] - 121s 3ms/step - loss: 0.0740 - accuracy: 0.9713 - val_loss: 0.0752 - val_accuracy: 0.9709 - lr: 5.0175e-08\n"
          ]
        }
      ],
      "source": [
        "model= models.Sequential([\n",
        "    layers.Dense(128, activation='relu', input_shape=(dt_train_024.shape[1],)),\n",
        "    layers.Dense(256, activation='relu'),\n",
        "    layers.Dense(6, activation='softmax')\n",
        "])\n",
        "\n",
        "model.compile(optimizer=tf.keras.optimizers.Adam(),\n",
        "              loss='sparse_categorical_crossentropy',\n",
        "              metrics=['accuracy'])\n",
        "history_model = model.fit(X_train, y_train,validation_data=(X_val, y_val), epochs=100,callbacks=[lr_callback,callback])"
      ]
    },
    {
      "cell_type": "code",
      "execution_count": 46,
      "metadata": {
        "id": "XN3KKWIOiFAI",
        "colab": {
          "base_uri": "https://localhost:8080/",
          "height": 492
        },
        "outputId": "0f164c4a-dbd6-447c-c119-5909c8ab186e"
      },
      "outputs": [
        {
          "output_type": "display_data",
          "data": {
            "text/plain": [
              "<Figure size 1000x500 with 1 Axes>"
            ],
            "image/png": "[encoded data removed]"
          },
          "metadata": {}
        }
      ],
      "source": [
        "plt.style.use('ggplot')\n",
        "plt.figure(figsize=(10, 5))\n",
        "plt.title('Model Accuracy')\n",
        "plt.plot(history_model.history['accuracy'], label='Accuracy')\n",
        "plt.plot(history_model.history['val_accuracy'], label='Validation Accuracy')\n",
        "plt.xlabel('Epoch')\n",
        "plt.ylabel('Accuracy')\n",
        "plt.ylim([0, 1.01])\n",
        "plt.legend(['Train', 'Test'], loc='lower right')\n",
        "plt.show()"
      ]
    },
    {
      "cell_type": "code",
      "execution_count": 47,
      "metadata": {
        "id": "NYQ07916tM7L",
        "colab": {
          "base_uri": "https://localhost:8080/",
          "height": 477
        },
        "outputId": "225189e1-304f-4fbd-837d-13d3410a5041"
      },
      "outputs": [
        {
          "output_type": "display_data",
          "data": {
            "text/plain": [
              "<Figure size 640x480 with 1 Axes>"
            ],
            "image/png": "[encoded data removed]"
          },
          "metadata": {}
        }
      ],
      "source": [
        "plt.plot(history_model.history['loss'], label='Training Loss')\n",
        "plt.plot(history_model.history['val_loss'], label='Validation Loss')\n",
        "plt.title('Model Loss')\n",
        "plt.xlabel('Epoch')\n",
        "plt.ylabel('Loss')\n",
        "plt.legend(['Train', 'Test'], loc='upper right')\n",
        "plt.show()"
      ]
    },
    {
      "cell_type": "code",
      "execution_count": 49,
      "metadata": {
        "id": "P_CeMxWgurzm",
        "colab": {
          "base_uri": "https://localhost:8080/"
        },
        "outputId": "00d34614-dd31-4f1b-9951-0f5d160f5741"
      },
      "outputs": [
        {
          "output_type": "stream",
          "name": "stderr",
          "text": [
            "/usr/local/lib/python3.10/dist-packages/keras/src/engine/training.py:3103: UserWarning: You are saving your model as an HDF5 file via `model.save()`. This file format is considered legacy. We recommend using instead the native Keras format, e.g. `model.save('my_model.keras')`.\n",
            "  saving_api.save_model(\n"
          ]
        }
      ],
      "source": [
        "model.save('./models/ideal_prediction_024.h5')"
      ]
    },
    {
      "cell_type": "code",
      "execution_count": 50,
      "metadata": {
        "id": "hWpzhQTCFPZO",
        "colab": {
          "base_uri": "https://localhost:8080/",
          "height": 17
        },
        "outputId": "c0ac0568-1e41-4b95-c064-770280752327"
      },
      "outputs": [
        {
          "output_type": "display_data",
          "data": {
            "text/plain": [
              "<IPython.core.display.Javascript object>"
            ],
            "application/javascript": [
              "\n",
              "    async function download(id, filename, size) {\n",
              "      if (!google.colab.kernel.accessAllowed) {\n",
              "        return;\n",
              "      }\n",
              "      const div = document.createElement('div');\n",
              "      const label = document.createElement('label');\n",
              "      label.textContent = `Downloading \"${filename}\": `;\n",
              "      div.appendChild(label);\n",
              "      const progress = document.createElement('progress');\n",
              "      progress.max = size;\n",
              "      div.appendChild(progress);\n",
              "      document.body.appendChild(div);\n",
              "\n",
              "      const buffers = [];\n",
              "      let downloaded = 0;\n",
              "\n",
              "      const channel = await google.colab.kernel.comms.open(id);\n",
              "      // Send a message to notify the kernel that we're ready.\n",
              "      channel.send({})\n",
              "\n",
              "      for await (const message of channel.messages) {\n",
              "        // Send a message to notify the kernel that we're ready.\n",
              "        channel.send({})\n",
              "        if (message.buffers) {\n",
              "          for (const buffer of message.buffers) {\n",
              "            buffers.push(buffer);\n",
              "            downloaded += buffer.byteLength;\n",
              "            progress.value = downloaded;\n",
              "          }\n",
              "        }\n",
              "      }\n",
              "      const blob = new Blob(buffers, {type: 'application/binary'});\n",
              "      const a = document.createElement('a');\n",
              "      a.href = window.URL.createObjectURL(blob);\n",
              "      a.download = filename;\n",
              "      div.appendChild(a);\n",
              "      a.click();\n",
              "      div.remove();\n",
              "    }\n",
              "  "
            ]
          },
          "metadata": {}
        },
        {
          "output_type": "display_data",
          "data": {
            "text/plain": [
              "<IPython.core.display.Javascript object>"
            ],
            "application/javascript": [
              "download(\"download_a441f8a9-79e7-418d-9ea8-c78050468b7d\", \"ideal_prediction_024.h5\", 453408)"
            ]
          },
          "metadata": {}
        }
      ],
      "source": [
        "from google.colab import files\n",
        "\n",
        "files.download('./models/ideal_prediction_024.h5')"
      ]
    }
  ],
  "metadata": {
    "accelerator": "GPU",
    "colab": {
      "gpuType": "T4",
      "provenance": []
    },
    "kernelspec": {
      "display_name": "Python 3",
      "name": "python3"
    },
    "language_info": {
      "codemirror_mode": {
        "name": "ipython",
        "version": 3
      },
      "file_extension": ".py",
      "mimetype": "text/x-python",
      "name": "python",
      "nbconvert_exporter": "python",
      "pygments_lexer": "ipython3",
      "version": "3.11.4"
    }
  },
  "nbformat": 4,
  "nbformat_minor": 0
}