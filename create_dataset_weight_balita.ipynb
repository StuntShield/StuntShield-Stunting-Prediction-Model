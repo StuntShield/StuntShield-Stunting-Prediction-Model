{
  "cells": [
    {
      "cell_type": "markdown",
      "metadata": {
        "id": "N-V1FfuZnZ1r"
      },
      "source": [
        "# Import Library yang akan di pakai"
      ]
    },
    {
      "cell_type": "code",
      "execution_count": 1,
      "metadata": {
        "id": "fWcWSa-ukSFe"
      },
      "outputs": [],
      "source": [
        "import os\n",
        "import csv\n",
        "import pandas as pd\n",
        "import shutil\n",
        "import zipfile"
      ]
    },
    {
      "cell_type": "markdown",
      "metadata": {
        "id": "JVkNetuCn51-"
      },
      "source": [
        "# Deklarasi Variable yang akan di gunakan\n",
        "\n",
        "Referensi : https://github.com/StuntShield/StuntShield-Stunting-Prediction-Model/blob/main/refrensi_ketentuan_dataset/PMK_No__2_Th_2020_ttg_Standar_Antropometri_Anak%20(1).pdf"
      ]
    },
    {
      "cell_type": "code",
      "execution_count": 2,
      "metadata": {
        "colab": {
          "base_uri": "https://localhost:8080/"
        },
        "id": "49LedYvJk60s",
        "outputId": "61773345-02c6-47d6-a223-b8d6ab9a987e"
      },
      "outputs": [
        {
          "name": "stdout",
          "output_type": "stream",
          "text": [
            "61\n",
            "61\n",
            "61\n",
            "61\n",
            "61\n",
            "61\n"
          ]
        }
      ],
      "source": [
        "list_path=[]\n",
        "dataset=[]\n",
        "SDM3_LAKI_LAKI = [2.1,2.9,3.8,4.4,4.9,5.3,5.7,5.9,6.2,6.4,6.6,6.8,6.9,7.1,7.2,7.4,7.5,7.7,7.8,8.0,8.1,8.2,8.4,8.5,8.6,8.8,8.9,9.0,9.1,9.2,9.4,9.5,9.6,9.7,9.8,9.9,10.0,10.1,10.2,10.3,10.4,10.5,10.6,10.7,10.8,10.9,11.0,11.1,11.2,11.3,11.4,11.5,11.6,11.7,11.8,11.9,12.0,12.1,12.2,12.3,12.4]\n",
        "print(len(SDM3_LAKI_LAKI))\n",
        "SDM2_LAKI_LAKI = [2.5,3.4,4.3,5.0,5.6,6.0,6.4,6.7,6.9,7.1,7.4,7.6,7.7,7.9,8.1,8.3,8.4,8.6,8.8,8.9,9.1,9.2,9.4,9.5,9.7,9.8,10.0,10.1,10.2,10.4,10.5,10.7,10.8,10.9,11.0,11.2,11.3,11.4,11.5,11.6,11.8,11.9,12.0,12.1,12.2,12.4,12.5,12.6,12.7,12.8,12.9,13.1,13.2,13.3,13.4,13.5,13.6,13.7,13.8,14.0,14.1]\n",
        "print(len(SDM2_LAKI_LAKI))\n",
        "SD1_LAKI_LAKI = [3.9,5.1,6.3,7.2,7.8,8.4,8.8,9.2,9.6,9.9,10.2,10.5,10.8,11.0,11.3,11.5,11.7,12.0,12.2,12.5,12.7,12.9,13.2,13.4,13.6,13.9,14.1,14.3,14.5,14.8,15.0,15.2,15.4,15.6,15.8,16.0,16.2,16.4,16.6,16.8,17.0,17.2,17.4,17.6,17.8,18.0,18.2,18.4,18.6,18.8,19.0,19.2,19.4,19.6,19.8,20.0,20.2,20.4,20.6,20.8,21.0]\n",
        "print(len(SD1_LAKI_LAKI))\n",
        "SD1_PEREMPUAN = [3.7,4.8,5.8,6.6,7.3,7.8,8.2,8.6,9.0,9.3,9.6,9.9,10.1,10.4,10.6,10.9,11.1,11.4,11.6,11.8,12.1,12.3,12.5,12.8,13.0,13.3,13.5,13.7,14.0,14.2,14.4,14.7,14.9,15.1,15.4,15.6,15.8,16.0,16.3,16.5,16.7,16.9,17.2,17.4,17.6,17.8,18.1,18.3,18.5,18.8,19.0,19.2,19.4,19.7,19.9,20.1,20.3,20.6,20.8,21.0,21.2]\n",
        "print(len(SD1_PEREMPUAN))\n",
        "SDM2_PEREMPUAN = [2.4,3.2,3.9,4.5,5.0,5.4,5.7,6.0,6.3,6.5,6.7,6.9,7.0,7.2,7.4,7.6,7.7,7.9,8.1,8.2,8.4,8.6,8.7,8.9,9.0,9.2,9.4,9.5,9.7,9.8,10.0,10.1,10.3,10.4,10.5,10.7,10.8,10.9,11.1,11.2,11.3,11.5,11.6,11.7,11.8,12.0,12.1,12.2,12.3,12.4,12.6,12.8,12.7,12.9,13.0,13.2,13.3,13.4,13.5,13.6,13.7]\n",
        "print(len(SDM2_PEREMPUAN))\n",
        "SDM3_PEREMPUAN = [2.0,2.7,3.4,4.0,4.4,4.8,5.1,5.3,5.6,5.8,5.9,6.1,6.3,6.4,6.6,6.7,6.9,7.0,7.2,7.3,7.5,7.6,7.8,7.9,8.1,8.2,8.4,8.5,8.6,8.8,8.9,9.0,9.1,9.3,9.4,9.5,9.6,9.7,9.8,9.9,10.1,10.2,10.3,10.4,10.5,10.6,10.7,10.8,10.9,11.0,11.1,11.2,11.3,11.4,11.5,11.6,11.7,11.8,11.9,12.0,12.1]\n",
        "print(len(SDM3_PEREMPUAN))"
      ]
    },
    {
      "cell_type": "markdown",
      "metadata": {
        "id": "2J6jikqloGgw"
      },
      "source": [
        "# Function yang di gunakan\n"
      ]
    },
    {
      "cell_type": "code",
      "execution_count": 3,
      "metadata": {
        "id": "UWiq4rLLnBKu"
      },
      "outputs": [],
      "source": [
        "def create_data(umur,jenis_kelamin,berat_badan,status) :\n",
        "    return {\n",
        "            \"Umur (bulan)\" : umur,\n",
        "            \"Jenis Kelamin\" : jenis_kelamin,\n",
        "            \"Berat Badan (kg)\" : round(berat_badan, 2),\n",
        "            \"Status\" : status\n",
        "          }\n",
        "\n",
        "def create_csv(umur,jenis_kelamin,status,batas_bawah,batas_atas):\n",
        "  path = os.path.join(jenis_kelamin,status)\n",
        "  path = os.path.join(path,str(umur))\n",
        "  os.makedirs(path)\n",
        "  list_path.append(os.path.join(path,'data-weight-balita.csv'))\n",
        "  with open(os.path.join(path,'data-weight-balita.csv'), mode='w', newline='') as file:\n",
        "          fieldnames = [\"Umur (bulan)\", \"Jenis Kelamin\", \"Berat Badan (kg)\",\"Status\"]\n",
        "          writer = csv.DictWriter(file, fieldnames=fieldnames)\n",
        "          writer.writeheader()\n",
        "          jml_range = (batas_atas - batas_bawah)*100\n",
        "          for i in range(int(jml_range+1)):\n",
        "            data = create_data(umur,jenis_kelamin,batas_bawah,status)\n",
        "            writer.writerow(data)\n",
        "            batas_bawah = batas_bawah + 0.01\n",
        "\n",
        "def compress_folder_to_zip(folder_path, zip_path):\n",
        "    with zipfile.ZipFile(zip_path, 'w', zipfile.ZIP_DEFLATED) as zipf:\n",
        "        for root, dirs, files in os.walk(folder_path):\n",
        "            for file in files:\n",
        "                zipf.write(os.path.join(root, file), os.path.relpath(os.path.join(root, file), folder_path))\n",
        "\n"
      ]
    },
    {
      "cell_type": "markdown",
      "metadata": {
        "id": "MFQnYzjtoTJf"
      },
      "source": [
        "# Lopping funtion untuk membuat data"
      ]
    },
    {
      "cell_type": "code",
      "execution_count": 4,
      "metadata": {
        "id": "JNZySzAGlAYs"
      },
      "outputs": [],
      "source": [
        "for i in range(len(SDM2_LAKI_LAKI)):\n",
        "  create_csv(i,'laki-laki','berat badan sangat kurang',SDM3_LAKI_LAKI[i]-0.5,SDM3_LAKI_LAKI[i])\n",
        "  create_csv(i,'laki-laki','berat badan kurang',SDM3_LAKI_LAKI[i],SDM2_LAKI_LAKI[i])\n",
        "  create_csv(i,'laki-laki','berat badan normal',SDM2_LAKI_LAKI[i],SD1_LAKI_LAKI[i])\n",
        "  create_csv(i,'laki-laki','risiko berat badan lebih',SD1_LAKI_LAKI[i],SD1_LAKI_LAKI[i]+9)\n",
        "  create_csv(i,'perempuan','berat badan sangat kurang',SDM3_PEREMPUAN[i]-0.5,SDM3_PEREMPUAN[i])\n",
        "  create_csv(i,'perempuan','berat badan kurang',SDM3_PEREMPUAN[i],SDM2_PEREMPUAN[i])\n",
        "  create_csv(i,'perempuan','berat badan normal',SDM2_PEREMPUAN[i],SD1_PEREMPUAN[i])\n",
        "  create_csv(i,'perempuan','risiko berat badan lebih',SD1_PEREMPUAN[i],SD1_LAKI_LAKI[i]+9)\n"
      ]
    },
    {
      "cell_type": "markdown",
      "metadata": {
        "id": "hbw67jMoocsb"
      },
      "source": [
        "# Untuk menggabungkan data yang sudah di buat berdasarkan umur,jenis kelamin dan status gizi tadi"
      ]
    },
    {
      "cell_type": "code",
      "execution_count": 5,
      "metadata": {
        "id": "Vbf_q1FIlHK6"
      },
      "outputs": [],
      "source": [
        "for file in list_path:\n",
        "    data = pd.read_csv(file)\n",
        "    dataset.append(data)\n",
        "\n",
        "merged_dataset = pd.concat(dataset)\n",
        "os.makedirs('dataset/data_weight_balita')\n",
        "merged_dataset.to_csv('./dataset/data_weight_balita/data_weight_balita.csv', index=False)"
      ]
    },
    {
      "cell_type": "markdown",
      "metadata": {
        "id": "yiVydSD6obXl"
      },
      "source": [
        "# Mengubah file csv jadi zip"
      ]
    },
    {
      "cell_type": "code",
      "execution_count": 6,
      "metadata": {
        "id": "iNqyYBw1lMF_"
      },
      "outputs": [],
      "source": [
        "compress_folder_to_zip('./dataset/data_weight_balita', './dataset/data_weight_balita.zip')\n"
      ]
    },
    {
      "cell_type": "markdown",
      "metadata": {
        "id": "nONmgNb7o9Kj"
      },
      "source": [
        "# Hapus folder yang sudah tidak di butuh kan\n"
      ]
    },
    {
      "cell_type": "code",
      "execution_count": 8,
      "metadata": {
        "id": "BGH6vpV9lOxg"
      },
      "outputs": [],
      "source": [
        "shutil.rmtree('./laki-laki')\n",
        "shutil.rmtree('./perempuan')\n",
        "# shutil.rmtree('./dataset')"
      ]
    }
  ],
  "metadata": {
    "colab": {
      "provenance": []
    },
    "kernelspec": {
      "display_name": "Python 3",
      "name": "python3"
    },
    "language_info": {
      "name": "python"
    }
  },
  "nbformat": 4,
  "nbformat_minor": 0
}
